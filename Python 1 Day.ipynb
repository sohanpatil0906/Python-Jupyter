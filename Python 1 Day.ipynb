{
 "cells": [
  {
   "cell_type": "markdown",
   "id": "e4657e11",
   "metadata": {},
   "source": [
    "### Rules of Variables"
   ]
  },
  {
   "cell_type": "raw",
   "id": "2d42bc92",
   "metadata": {},
   "source": [
    "1. Varable name can't start with number\n",
    "2. There should not be any space between word, instead use _ (or) camel case\n",
    "3. we can't use\n",
    "' \" , < > / ? | () ! @ # $ % ^ &\n",
    "4. don't use l , I , O ,o \n",
    "5. don't use kewords"
   ]
  },
  {
   "cell_type": "markdown",
   "id": "271632f3",
   "metadata": {},
   "source": [
    "### Data Types"
   ]
  },
  {
   "cell_type": "raw",
   "id": "f3a64cd3",
   "metadata": {},
   "source": [
    "1. int - for integer values (for eg : -23, 5678, 0, -7654, 678, 876543)\n",
    "2. float - for Floating point values ( for eg: 234.567, -8756.987, 890.00)\n",
    "3. str - for string (for eg : 'Samuel' , \"Edison\", 'Samuel Edison','S')\n",
    "4. bool - for boolean values ( True /False)\n",
    "5. complex - for real and imaginary values ( for eg: 23+4j)\n"
   ]
  },
  {
   "cell_type": "markdown",
   "id": "9cf19be3",
   "metadata": {},
   "source": [
    "C / C++ / C# / Java\n",
    "\n",
    "int a,b,c"
   ]
  },
  {
   "cell_type": "markdown",
   "id": "f8dcfe41",
   "metadata": {},
   "source": [
    "Python varaibles are dynamically types\n",
    "\n",
    "var = 10        ==> var will be int\n",
    "var = 'Samuel'  ==> var will be string\n",
    "var = 10.34     ==> var will be float"
   ]
  },
  {
   "cell_type": "markdown",
   "id": "d4344819",
   "metadata": {},
   "source": [
    "### Operators"
   ]
  },
  {
   "cell_type": "markdown",
   "id": "7feec124",
   "metadata": {},
   "source": [
    "1. Arithmetic Operators \n",
    "    a) +  --> Addition\n",
    "    b) -  --> subraction\n",
    "    c) *  --> Multliplication\n",
    "    d) /  --> division \n",
    "    c) // --> floor division\n",
    "    d) %  --> modulo\n",
    "    e) ** --> exponent\n",
    "\n",
    "2. Relational Operator --> > < >= <= == !=\n",
    "3. Bitwise Operator --> &, |, ^, << , >>\n",
    "4. Logical Operator --> and, or , not\n",
    "5. Membership Operator --> in , not in\n",
    "6. Identity Operator --> is, not is"
   ]
  },
  {
   "cell_type": "markdown",
   "id": "ff43f7c1",
   "metadata": {},
   "source": [
    "### Operator Precedence"
   ]
  },
  {
   "cell_type": "code",
   "execution_count": 6,
   "id": "2740b618",
   "metadata": {},
   "outputs": [
    {
     "data": {
      "text/plain": [
       "2.5"
      ]
     },
     "execution_count": 6,
     "metadata": {},
     "output_type": "execute_result"
    }
   ],
   "source": [
    "10 / 4"
   ]
  },
  {
   "cell_type": "code",
   "execution_count": null,
   "id": "5187e19f",
   "metadata": {},
   "outputs": [],
   "source": [
    "C\n",
    "--\n",
    "10/4   ==> 2 \n",
    "10.0 / 4.0 ==> 2.5 (double)\n",
    "10.0f / 4.0f ==> 2.5 (float) "
   ]
  },
  {
   "cell_type": "code",
   "execution_count": 7,
   "id": "e5bd4d2d",
   "metadata": {},
   "outputs": [
    {
     "data": {
      "text/plain": [
       "2"
      ]
     },
     "execution_count": 7,
     "metadata": {},
     "output_type": "execute_result"
    }
   ],
   "source": [
    "10 // 4   "
   ]
  },
  {
   "cell_type": "code",
   "execution_count": 8,
   "id": "2ce77831",
   "metadata": {},
   "outputs": [
    {
     "data": {
      "text/plain": [
       "1000"
      ]
     },
     "execution_count": 8,
     "metadata": {},
     "output_type": "execute_result"
    }
   ],
   "source": [
    "10 ** 3    # pow(10,3)"
   ]
  },
  {
   "cell_type": "markdown",
   "id": "871a523c",
   "metadata": {},
   "source": [
    "1. **\n",
    "2. ~\n",
    "3. * , / , %, //\n",
    "4. +, -\n",
    "5. >>, <<\n",
    "6. &\n",
    "7. ^, |\n",
    "8. <=, >= , < ,> \n",
    "9. == , !=\n",
    "10. Arithmetic assignment operator ( +=, -=, %=.....)\n",
    "11. is , is not\n",
    "12. in , not in\n",
    "13. not, or , and"
   ]
  },
  {
   "cell_type": "markdown",
   "id": "9af6a57e",
   "metadata": {},
   "source": [
    "### Numeric Data"
   ]
  },
  {
   "cell_type": "markdown",
   "id": "472cc23d",
   "metadata": {},
   "source": [
    "int\n",
    "float\n",
    "complex"
   ]
  },
  {
   "cell_type": "code",
   "execution_count": 9,
   "id": "9e449382",
   "metadata": {},
   "outputs": [
    {
     "name": "stdout",
     "output_type": "stream",
     "text": [
      "False\n"
     ]
    }
   ],
   "source": [
    "num1 = 10\n",
    "num2 = 20\n",
    "print(num1>num2)"
   ]
  },
  {
   "cell_type": "code",
   "execution_count": 10,
   "id": "cb6312b5",
   "metadata": {},
   "outputs": [
    {
     "name": "stdout",
     "output_type": "stream",
     "text": [
      "(50+7j)\n"
     ]
    }
   ],
   "source": [
    "comp1 = 20+3j\n",
    "comp2 = 30+4j\n",
    "print(comp1+comp2)"
   ]
  },
  {
   "cell_type": "code",
   "execution_count": 12,
   "id": "9b199a39",
   "metadata": {},
   "outputs": [
    {
     "name": "stdout",
     "output_type": "stream",
     "text": [
      "False\n",
      "True\n"
     ]
    }
   ],
   "source": [
    "num1 = True\n",
    "num2 = False\n",
    "print(num1 and num2)\n",
    "print(num1 or num2)"
   ]
  },
  {
   "cell_type": "code",
   "execution_count": null,
   "id": "f2a94bc4",
   "metadata": {},
   "outputs": [],
   "source": [
    "C Example\n",
    "---------\n",
    "\n",
    "int a = 20\n",
    "int b = 0\n",
    "printf(\"%d \", a && b);  \n",
    "\n",
    "o/p : 0 \n",
    "    \n",
    "\n",
    "Non Zero --> TRUE\n",
    "Zero --> FALSE"
   ]
  },
  {
   "cell_type": "code",
   "execution_count": 16,
   "id": "9311a25e",
   "metadata": {},
   "outputs": [
    {
     "name": "stdout",
     "output_type": "stream",
     "text": [
      "4535560512 4535560512\n",
      "True\n"
     ]
    }
   ],
   "source": [
    "# 0 to 256\n",
    "num1 = 256\n",
    "num2 = 256\n",
    "print(id(num1), id(num2))\n",
    "print(num1 is num2)"
   ]
  },
  {
   "cell_type": "code",
   "execution_count": 19,
   "id": "2d6f965a",
   "metadata": {},
   "outputs": [
    {
     "name": "stdout",
     "output_type": "stream",
     "text": [
      "140277417939056 140277417939536\n",
      "True\n"
     ]
    }
   ],
   "source": [
    "num1 = 257\n",
    "num2 = 257\n",
    "print(id(num1), id(num2))\n",
    "print(num1 is not num2)"
   ]
  },
  {
   "cell_type": "code",
   "execution_count": 18,
   "id": "27f585ca",
   "metadata": {},
   "outputs": [
    {
     "name": "stdout",
     "output_type": "stream",
     "text": [
      "140277417939216 140277417939440\n",
      "True\n"
     ]
    }
   ],
   "source": [
    "num1 = 25788\n",
    "num2 = 25788\n",
    "print(id(num1), id(num2))\n",
    "print(num1 == num2)"
   ]
  },
  {
   "cell_type": "markdown",
   "id": "23d6031b",
   "metadata": {},
   "source": [
    "### String"
   ]
  },
  {
   "cell_type": "markdown",
   "id": "ac9787e5",
   "metadata": {},
   "source": [
    "Single Line String\n",
    "..................\n",
    "\n",
    "\n",
    "' '\n",
    "\" \"\n",
    "\n",
    "Multi Line String\n",
    ".................\n",
    "\n",
    "\n",
    "''' '''\n",
    "\"\"\" \"\"\""
   ]
  },
  {
   "cell_type": "code",
   "execution_count": 20,
   "id": "22263974",
   "metadata": {},
   "outputs": [
    {
     "name": "stdout",
     "output_type": "stream",
     "text": [
      "Samuel Edison\n",
      "Samuel Edison\n"
     ]
    }
   ],
   "source": [
    "firstName = 'Samuel Edison'\n",
    "first_name = \"Samuel Edison\"\n",
    "print(firstName)\n",
    "print(first_name)"
   ]
  },
  {
   "cell_type": "code",
   "execution_count": 21,
   "id": "075f22df",
   "metadata": {},
   "outputs": [
    {
     "ename": "SyntaxError",
     "evalue": "invalid syntax (<ipython-input-21-25f98fc33228>, line 1)",
     "output_type": "error",
     "traceback": [
      "\u001b[0;36m  File \u001b[0;32m\"<ipython-input-21-25f98fc33228>\"\u001b[0;36m, line \u001b[0;32m1\u001b[0m\n\u001b[0;31m    info = 'this is Samuel's Python class'\u001b[0m\n\u001b[0m                           ^\u001b[0m\n\u001b[0;31mSyntaxError\u001b[0m\u001b[0;31m:\u001b[0m invalid syntax\n"
     ]
    }
   ],
   "source": [
    "info = 'this is Samuel's Python class'\n",
    "print(info)"
   ]
  },
  {
   "cell_type": "code",
   "execution_count": 22,
   "id": "b47671fa",
   "metadata": {},
   "outputs": [
    {
     "name": "stdout",
     "output_type": "stream",
     "text": [
      "this is Samuel's Python class\n"
     ]
    }
   ],
   "source": [
    "info = \"this is Samuel's Python class\"\n",
    "print(info)"
   ]
  },
  {
   "cell_type": "code",
   "execution_count": null,
   "id": "5d93e837",
   "metadata": {},
   "outputs": [],
   "source": [
    "info = 'this is Samuel\\'s Python class'\n",
    "print(info)"
   ]
  },
  {
   "cell_type": "code",
   "execution_count": 23,
   "id": "debf8420",
   "metadata": {},
   "outputs": [
    {
     "ename": "SyntaxError",
     "evalue": "invalid syntax (<ipython-input-23-ed89925f3a24>, line 2)",
     "output_type": "error",
     "traceback": [
      "\u001b[0;36m  File \u001b[0;32m\"<ipython-input-23-ed89925f3a24>\"\u001b[0;36m, line \u001b[0;32m2\u001b[0m\n\u001b[0;31m    I am fine...'\u001b[0m\n\u001b[0m      ^\u001b[0m\n\u001b[0;31mSyntaxError\u001b[0m\u001b[0;31m:\u001b[0m invalid syntax\n"
     ]
    }
   ],
   "source": [
    "msg = 'hi, how are you?\n",
    "I am fine...'\n",
    "print(msg)"
   ]
  },
  {
   "cell_type": "code",
   "execution_count": 24,
   "id": "50f0eaa9",
   "metadata": {},
   "outputs": [
    {
     "name": "stdout",
     "output_type": "stream",
     "text": [
      "Hi, how are you?\n",
      "I am fine..\n",
      "who are you?\n",
      "\n"
     ]
    }
   ],
   "source": [
    "msg = '''Hi, how are you?\n",
    "I am fine..\n",
    "who are you?\n",
    "'''\n",
    "print(msg)"
   ]
  },
  {
   "cell_type": "code",
   "execution_count": 26,
   "id": "28f13645",
   "metadata": {},
   "outputs": [
    {
     "name": "stdout",
     "output_type": "stream",
     "text": [
      "Hi, how are you?\n",
      "I am fine..\n",
      "who are you?\n",
      "Iam the God's son...\n"
     ]
    }
   ],
   "source": [
    "msg = \"\"\"Hi, how are you?\n",
    "I am fine..\n",
    "who are you?\n",
    "Iam the God's son...\"\"\"\n",
    "\n",
    "print(msg)"
   ]
  },
  {
   "cell_type": "code",
   "execution_count": 27,
   "id": "dcf7e99b",
   "metadata": {},
   "outputs": [
    {
     "name": "stdout",
     "output_type": "stream",
     "text": [
      "SamuelEdison\n"
     ]
    }
   ],
   "source": [
    "fname = 'Samuel'\n",
    "lname = 'Edison'\n",
    "fullName = fname + lname\n",
    "print(fullName)"
   ]
  },
  {
   "cell_type": "code",
   "execution_count": null,
   "id": "9a125119",
   "metadata": {},
   "outputs": [],
   "source": [
    "fname='Samuel'\n",
    "lname='Edison'\n",
    "fullName=fname+' '+lname\n",
    "#Samuel \n",
    "#Samuel Edison\n",
    "print(fullName)"
   ]
  },
  {
   "cell_type": "code",
   "execution_count": 29,
   "id": "dfd42166",
   "metadata": {},
   "outputs": [
    {
     "name": "stdout",
     "output_type": "stream",
     "text": [
      "<class 'str'>\n"
     ]
    }
   ],
   "source": [
    "msg = \"I'm Sorry....\"\n",
    "info=msg*100\n",
    "print(type(info))"
   ]
  },
  {
   "cell_type": "code",
   "execution_count": null,
   "id": "1e74fb2a",
   "metadata": {},
   "outputs": [],
   "source": [
    "C Example\n",
    "---------\n",
    "char msg[] = \"I am sorry...\"\n",
    "for(int 1 = 1 ; i <= 100 ; i++){\n",
    "    print(\"%s\",msg);\n",
    "}"
   ]
  },
  {
   "cell_type": "markdown",
   "id": "61d5435e",
   "metadata": {},
   "source": [
    "### Indexing"
   ]
  },
  {
   "cell_type": "code",
   "execution_count": 30,
   "id": "18f77f26",
   "metadata": {},
   "outputs": [
    {
     "name": "stdout",
     "output_type": "stream",
     "text": [
      "u\n"
     ]
    }
   ],
   "source": [
    "#[+ve index] 0...n\n",
    "name = \"Samuel Edison\"\n",
    "print(name[3])"
   ]
  },
  {
   "cell_type": "code",
   "execution_count": null,
   "id": "84a9f171",
   "metadata": {},
   "outputs": [],
   "source": [
    "0 1 2 3 4 5 6 7 8 9 10 11 12\n",
    "S a m u e l   E d i s  o  n\n",
    "           -7    -4 -3 -2 -1"
   ]
  },
  {
   "cell_type": "code",
   "execution_count": 34,
   "id": "8ab3eedb",
   "metadata": {},
   "outputs": [
    {
     "name": "stdout",
     "output_type": "stream",
     "text": [
      "E\n"
     ]
    }
   ],
   "source": [
    "#[-ve index] -1....-n\n",
    "name = \"Samuel Edison\"\n",
    "print(name[-6])"
   ]
  },
  {
   "cell_type": "code",
   "execution_count": 35,
   "id": "92a326ee",
   "metadata": {},
   "outputs": [
    {
     "ename": "TypeError",
     "evalue": "'str' object does not support item assignment",
     "output_type": "error",
     "traceback": [
      "\u001b[0;31m---------------------------------------------------------------------------\u001b[0m",
      "\u001b[0;31mTypeError\u001b[0m                                 Traceback (most recent call last)",
      "\u001b[0;32m<ipython-input-35-0f12fdff689e>\u001b[0m in \u001b[0;36m<module>\u001b[0;34m\u001b[0m\n\u001b[1;32m      1\u001b[0m \u001b[0minfo\u001b[0m \u001b[0;34m=\u001b[0m \u001b[0;34m'This is my blue box'\u001b[0m\u001b[0;34m\u001b[0m\u001b[0;34m\u001b[0m\u001b[0m\n\u001b[1;32m      2\u001b[0m \u001b[0;34m\u001b[0m\u001b[0m\n\u001b[0;32m----> 3\u001b[0;31m \u001b[0minfo\u001b[0m\u001b[0;34m[\u001b[0m\u001b[0;36m11\u001b[0m\u001b[0;34m]\u001b[0m \u001b[0;34m=\u001b[0m \u001b[0;34m'g'\u001b[0m\u001b[0;34m\u001b[0m\u001b[0;34m\u001b[0m\u001b[0m\n\u001b[0m\u001b[1;32m      4\u001b[0m \u001b[0mprint\u001b[0m\u001b[0;34m(\u001b[0m\u001b[0minfo\u001b[0m\u001b[0;34m)\u001b[0m\u001b[0;34m\u001b[0m\u001b[0;34m\u001b[0m\u001b[0m\n",
      "\u001b[0;31mTypeError\u001b[0m: 'str' object does not support item assignment"
     ]
    }
   ],
   "source": [
    "info = 'This is my blue box'\n",
    "\n",
    "info[11] = 'g'  \n",
    "print(info)"
   ]
  },
  {
   "cell_type": "code",
   "execution_count": 36,
   "id": "91971317",
   "metadata": {},
   "outputs": [
    {
     "name": "stdout",
     "output_type": "stream",
     "text": [
      "this is my glue box\n"
     ]
    }
   ],
   "source": [
    "info = 'This is my blue box'\n",
    "\n",
    "info = 'this is my glue box'  \n",
    "print(info)"
   ]
  },
  {
   "cell_type": "markdown",
   "id": "2fa80711",
   "metadata": {},
   "source": [
    "### Slicing"
   ]
  },
  {
   "cell_type": "code",
   "execution_count": 40,
   "id": "9db363e3",
   "metadata": {},
   "outputs": [
    {
     "name": "stdout",
     "output_type": "stream",
     "text": [
      "Sam\n"
     ]
    }
   ],
   "source": [
    "# [ start : stop_before : step ]\n",
    "name = \"Samuel Edison\"\n",
    "print(name[:3:])  "
   ]
  },
  {
   "cell_type": "code",
   "execution_count": 38,
   "id": "df02a60b",
   "metadata": {},
   "outputs": [
    {
     "name": "stdout",
     "output_type": "stream",
     "text": [
      "Sme\n"
     ]
    }
   ],
   "source": [
    "name = \"Samuel Edison\"\n",
    "print(name[0:6:2])   "
   ]
  },
  {
   "cell_type": "raw",
   "id": "9e5a0467",
   "metadata": {},
   "source": [
    "Default Value\n",
    "-------------\n",
    "start --> 0  / -1\n",
    "stop --> String length / -string length+1\n",
    "step --> 1  /  -1   "
   ]
  },
  {
   "cell_type": "code",
   "execution_count": 41,
   "id": "10803a60",
   "metadata": {},
   "outputs": [
    {
     "name": "stdout",
     "output_type": "stream",
     "text": [
      "Edison\n"
     ]
    }
   ],
   "source": [
    "name = \"Samuel Edison\"\n",
    "print(name[7::])"
   ]
  },
  {
   "cell_type": "code",
   "execution_count": null,
   "id": "1fc2c54e",
   "metadata": {},
   "outputs": [],
   "source": [
    "name = \"Samuel Edison\"\n",
    "print(name[7:])"
   ]
  },
  {
   "cell_type": "code",
   "execution_count": 42,
   "id": "893fc8aa",
   "metadata": {},
   "outputs": [
    {
     "name": "stdout",
     "output_type": "stream",
     "text": [
      "Samuel\n"
     ]
    }
   ],
   "source": [
    "name = \"Samuel Edison\"\n",
    "print(name[0:6])"
   ]
  },
  {
   "cell_type": "code",
   "execution_count": 43,
   "id": "de00d323",
   "metadata": {},
   "outputs": [
    {
     "name": "stdout",
     "output_type": "stream",
     "text": [
      "Samuel\n"
     ]
    }
   ],
   "source": [
    "name = \"Samuel Edison\"\n",
    "print(name[:6])"
   ]
  },
  {
   "cell_type": "code",
   "execution_count": 47,
   "id": "3b2ed13f",
   "metadata": {},
   "outputs": [
    {
     "name": "stdout",
     "output_type": "stream",
     "text": [
      "nosidE\n"
     ]
    }
   ],
   "source": [
    "name = \"Samuel Edison\"\n",
    "print(name[-1:-7:-1]\n",
    "# nosidE"
   ]
  },
  {
   "cell_type": "code",
   "execution_count": 51,
   "id": "3b990a06",
   "metadata": {},
   "outputs": [
    {
     "name": "stdout",
     "output_type": "stream",
     "text": [
      "leumaS\n"
     ]
    }
   ],
   "source": [
    "name = \"Samuel Edison\"\n",
    "print(name[-8:-14:-1])"
   ]
  },
  {
   "cell_type": "code",
   "execution_count": 45,
   "id": "328054af",
   "metadata": {},
   "outputs": [
    {
     "name": "stdout",
     "output_type": "stream",
     "text": [
      "nosidE leumaS\n"
     ]
    }
   ],
   "source": [
    "name = \"Samuel Edison\"\n",
    "print(name[::-1]) \n"
   ]
  },
  {
   "cell_type": "code",
   "execution_count": 52,
   "id": "b0188e30",
   "metadata": {},
   "outputs": [
    {
     "name": "stdout",
     "output_type": "stream",
     "text": [
      "Samuel Edison\n"
     ]
    }
   ],
   "source": [
    "name = \"Samuel Edison\"\n",
    "print(name[::1]) "
   ]
  },
  {
   "cell_type": "markdown",
   "id": "75f14064",
   "metadata": {},
   "source": [
    "### Methods"
   ]
  },
  {
   "cell_type": "markdown",
   "id": "1621b1ea",
   "metadata": {},
   "source": [
    "obj.method()\n",
    "\n",
    "\n",
    "newstrobj = obj.capitalize() --> caps the 1st char\n",
    "newstrobj = obj.lower() --> convert all the char to lower case\n",
    "newstrobj = obj.upper() --> convert all the char to upper case\n",
    "newstrobj = obj.center(length, character) -->  \n",
    "for eg : samuel.center(10,'*') ==> **Samuel**\n",
    "\n",
    "pos = obj.find('word/char') --> the position of the char or the 1st char of the word\n",
    "\n",
    "obj = obj.replace('find word' , 'replace word')\n",
    "\n",
    "pos = obj.index (value , start pos, end pos)\n",
    "\n",
    "cnt = obj.count (value, start pos, end pos)\n"
   ]
  },
  {
   "cell_type": "code",
   "execution_count": 55,
   "id": "bf711b3b",
   "metadata": {},
   "outputs": [
    {
     "name": "stdout",
     "output_type": "stream",
     "text": [
      "This is my python class\n"
     ]
    }
   ],
   "source": [
    "myinfo = \"this is my python class\"\n",
    "info = myinfo.capitalize()\n",
    "print(info)"
   ]
  },
  {
   "cell_type": "code",
   "execution_count": 56,
   "id": "eb0f6839",
   "metadata": {},
   "outputs": [
    {
     "name": "stdout",
     "output_type": "stream",
     "text": [
      "SAMUEL\n"
     ]
    }
   ],
   "source": [
    "name = \"samuel\"\n",
    "print(name.upper())"
   ]
  },
  {
   "cell_type": "code",
   "execution_count": 57,
   "id": "5f13172c",
   "metadata": {},
   "outputs": [
    {
     "name": "stdout",
     "output_type": "stream",
     "text": [
      "**Samuel**\n"
     ]
    }
   ],
   "source": [
    "name = \"Samuel\"\n",
    "print(name.center(10,'*'))\n"
   ]
  },
  {
   "cell_type": "code",
   "execution_count": 58,
   "id": "ff75dde0",
   "metadata": {},
   "outputs": [
    {
     "name": "stdout",
     "output_type": "stream",
     "text": [
      "11\n"
     ]
    }
   ],
   "source": [
    "myinfo = \"this is my python class\"\n",
    "print(myinfo.find('p'))"
   ]
  },
  {
   "cell_type": "code",
   "execution_count": 61,
   "id": "1c7f693d",
   "metadata": {},
   "outputs": [
    {
     "name": "stdout",
     "output_type": "stream",
     "text": [
      "2\n"
     ]
    }
   ],
   "source": [
    "myinfo = \"this is my python class\"\n",
    "print(myinfo.find('i'))"
   ]
  },
  {
   "cell_type": "code",
   "execution_count": 62,
   "id": "db355dd2",
   "metadata": {},
   "outputs": [
    {
     "name": "stdout",
     "output_type": "stream",
     "text": [
      "this is my glue box\n"
     ]
    }
   ],
   "source": [
    "myinfo = \"this is my blue box\"\n",
    "newinfo = myinfo.replace('blue','glue')\n",
    "print(newinfo)"
   ]
  },
  {
   "cell_type": "code",
   "execution_count": 67,
   "id": "7f4a339a",
   "metadata": {},
   "outputs": [
    {
     "name": "stdout",
     "output_type": "stream",
     "text": [
      "2\n"
     ]
    }
   ],
   "source": [
    "myinfo = \"this is my python class\"\n",
    "print(myinfo.index('i',0,5))"
   ]
  },
  {
   "cell_type": "code",
   "execution_count": 68,
   "id": "618c2e86",
   "metadata": {},
   "outputs": [
    {
     "name": "stdout",
     "output_type": "stream",
     "text": [
      "23\n"
     ]
    }
   ],
   "source": [
    "print(len(myinfo))"
   ]
  },
  {
   "cell_type": "markdown",
   "id": "0bc49216",
   "metadata": {},
   "source": [
    "### Boolean Methods -- String"
   ]
  },
  {
   "cell_type": "markdown",
   "id": "ad74c9d6",
   "metadata": {},
   "source": [
    "obj.istitle()\n",
    "obj.isalnum()  --> alpha and numberic values\n",
    "obj.isalpha()  --> only for alphabets\n",
    "obj.isdigit()  --> only for digits \n",
    "obj.isidentifier() --> \n",
    "obj.isprintable()  --> \n",
    "obj.isspace() \n",
    "obj.islower()\n",
    "obj.isupper()\n"
   ]
  },
  {
   "cell_type": "code",
   "execution_count": 69,
   "id": "09d014fb",
   "metadata": {},
   "outputs": [
    {
     "name": "stdout",
     "output_type": "stream",
     "text": [
      "False\n",
      "True\n",
      "False\n"
     ]
    }
   ],
   "source": [
    "num = '1a9b2c83d8'\n",
    "# print(type(num))\n",
    "print(num.isdigit())  # all digit\n",
    "print(num.isalnum())\n",
    "print(num.isalpha())  # all alphabet"
   ]
  },
  {
   "cell_type": "code",
   "execution_count": 107,
   "id": "c9294ae4",
   "metadata": {},
   "outputs": [
    {
     "name": "stdout",
     "output_type": "stream",
     "text": [
      "True\n"
     ]
    }
   ],
   "source": [
    "title = \"This Is Python Class\"\n",
    "print(title.istitle())"
   ]
  },
  {
   "cell_type": "code",
   "execution_count": 72,
   "id": "1f495292",
   "metadata": {},
   "outputs": [
    {
     "name": "stdout",
     "output_type": "stream",
     "text": [
      "False\n"
     ]
    }
   ],
   "source": [
    "info = \"This Samuel\\'s python\\t class\"\n",
    "print(info.isprintable())"
   ]
  },
  {
   "cell_type": "code",
   "execution_count": 74,
   "id": "2e174a7a",
   "metadata": {},
   "outputs": [
    {
     "name": "stdout",
     "output_type": "stream",
     "text": [
      "False\n"
     ]
    }
   ],
   "source": [
    "info = \"This Samuel's Python class\"\n",
    "word = \"Python\"\n",
    "print(word not in info)\n",
    "# print(word in info)"
   ]
  },
  {
   "cell_type": "code",
   "execution_count": 76,
   "id": "71c7a07a",
   "metadata": {},
   "outputs": [
    {
     "name": "stdout",
     "output_type": "stream",
     "text": [
      "<class 'str'> <class 'str'>\n",
      "9182873100\n"
     ]
    }
   ],
   "source": [
    "num1 = '9182873'\n",
    "num2 = '100'\n",
    "print(type(num1), type(num2))\n",
    "print(num1+num2)"
   ]
  },
  {
   "cell_type": "code",
   "execution_count": 77,
   "id": "e59da3ab",
   "metadata": {},
   "outputs": [
    {
     "name": "stdout",
     "output_type": "stream",
     "text": [
      "9182973\n"
     ]
    }
   ],
   "source": [
    "num1 = '9182873'\n",
    "num2 = '100'\n",
    "# print(type(num1), type(num2))\n",
    "print(int(num1)+int(num2))    # 9182873 + 100"
   ]
  },
  {
   "cell_type": "code",
   "execution_count": 78,
   "id": "ee67880a",
   "metadata": {},
   "outputs": [
    {
     "name": "stdout",
     "output_type": "stream",
     "text": [
      "9182973.0\n"
     ]
    }
   ],
   "source": [
    "num1 = '9182873'\n",
    "num2 = '100'\n",
    "print(float(num1)+ float(num2))   # 9182873.0 + 100.0"
   ]
  },
  {
   "cell_type": "code",
   "execution_count": 79,
   "id": "1d3dd316",
   "metadata": {},
   "outputs": [
    {
     "name": "stdout",
     "output_type": "stream",
     "text": [
      "91929.18\n"
     ]
    }
   ],
   "source": [
    "num1 = '91828.73'   # float\n",
    "num2 = '100.45'\n",
    "print(float(num1)+ float(num2))  \n"
   ]
  },
  {
   "cell_type": "code",
   "execution_count": 80,
   "id": "a2663292",
   "metadata": {},
   "outputs": [
    {
     "ename": "ValueError",
     "evalue": "invalid literal for int() with base 10: '91828.73'",
     "output_type": "error",
     "traceback": [
      "\u001b[0;31m---------------------------------------------------------------------------\u001b[0m",
      "\u001b[0;31mValueError\u001b[0m                                Traceback (most recent call last)",
      "\u001b[0;32m<ipython-input-80-266602855d97>\u001b[0m in \u001b[0;36m<module>\u001b[0;34m\u001b[0m\n\u001b[1;32m      1\u001b[0m \u001b[0mnum1\u001b[0m \u001b[0;34m=\u001b[0m \u001b[0;34m'91828.73'\u001b[0m   \u001b[0;31m# float\u001b[0m\u001b[0;34m\u001b[0m\u001b[0;34m\u001b[0m\u001b[0m\n\u001b[1;32m      2\u001b[0m \u001b[0mnum2\u001b[0m \u001b[0;34m=\u001b[0m \u001b[0;34m'100.45'\u001b[0m\u001b[0;34m\u001b[0m\u001b[0;34m\u001b[0m\u001b[0m\n\u001b[0;32m----> 3\u001b[0;31m \u001b[0mprint\u001b[0m\u001b[0;34m(\u001b[0m\u001b[0mint\u001b[0m\u001b[0;34m(\u001b[0m\u001b[0mnum1\u001b[0m\u001b[0;34m)\u001b[0m\u001b[0;34m+\u001b[0m \u001b[0mint\u001b[0m\u001b[0;34m(\u001b[0m\u001b[0mnum2\u001b[0m\u001b[0;34m)\u001b[0m\u001b[0;34m)\u001b[0m\u001b[0;34m\u001b[0m\u001b[0;34m\u001b[0m\u001b[0m\n\u001b[0m",
      "\u001b[0;31mValueError\u001b[0m: invalid literal for int() with base 10: '91828.73'"
     ]
    }
   ],
   "source": [
    "num1 = '91828.73'   # float\n",
    "num2 = '100.45'\n",
    "print(int(num1)+ int(num2))"
   ]
  },
  {
   "cell_type": "code",
   "execution_count": 81,
   "id": "c3ad2454",
   "metadata": {},
   "outputs": [
    {
     "ename": "ValueError",
     "evalue": "invalid literal for int() with base 10: '123abc'",
     "output_type": "error",
     "traceback": [
      "\u001b[0;31m---------------------------------------------------------------------------\u001b[0m",
      "\u001b[0;31mValueError\u001b[0m                                Traceback (most recent call last)",
      "\u001b[0;32m<ipython-input-81-8fb988d7cb6e>\u001b[0m in \u001b[0;36m<module>\u001b[0;34m\u001b[0m\n\u001b[1;32m      1\u001b[0m \u001b[0mnum1\u001b[0m \u001b[0;34m=\u001b[0m \u001b[0;34m'123abc'\u001b[0m\u001b[0;34m\u001b[0m\u001b[0;34m\u001b[0m\u001b[0m\n\u001b[1;32m      2\u001b[0m \u001b[0mnum2\u001b[0m \u001b[0;34m=\u001b[0m \u001b[0;34m'987xyz'\u001b[0m\u001b[0;34m\u001b[0m\u001b[0;34m\u001b[0m\u001b[0m\n\u001b[0;32m----> 3\u001b[0;31m \u001b[0mprint\u001b[0m\u001b[0;34m(\u001b[0m\u001b[0mint\u001b[0m\u001b[0;34m(\u001b[0m\u001b[0mnum1\u001b[0m\u001b[0;34m)\u001b[0m \u001b[0;34m+\u001b[0m \u001b[0mint\u001b[0m\u001b[0;34m(\u001b[0m\u001b[0mnum2\u001b[0m\u001b[0;34m)\u001b[0m\u001b[0;34m)\u001b[0m\u001b[0;34m\u001b[0m\u001b[0;34m\u001b[0m\u001b[0m\n\u001b[0m",
      "\u001b[0;31mValueError\u001b[0m: invalid literal for int() with base 10: '123abc'"
     ]
    }
   ],
   "source": [
    "num1 = '123abc'\n",
    "num2 = '987xyz'\n",
    "print(int(num1) + int(num2))"
   ]
  },
  {
   "cell_type": "markdown",
   "id": "09474e85",
   "metadata": {},
   "source": [
    "### strip , lstrip & rstrip"
   ]
  },
  {
   "cell_type": "code",
   "execution_count": 82,
   "id": "15e5d5da",
   "metadata": {},
   "outputs": [
    {
     "name": "stdout",
     "output_type": "stream",
     "text": [
      "This is my apple\n"
     ]
    }
   ],
   "source": [
    "info = '@^&$This is my apple|(}@@^}}}'\n",
    "print(info.strip('@$^&(}|'))"
   ]
  },
  {
   "cell_type": "code",
   "execution_count": 83,
   "id": "1379075f",
   "metadata": {},
   "outputs": [
    {
     "name": "stdout",
     "output_type": "stream",
     "text": [
      "This is my apple|(}@@^}}}\n"
     ]
    }
   ],
   "source": [
    "info = '@^&$This is my apple|(}@@^}}}'\n",
    "print(info.lstrip('@$^&(}|'))\n",
    "\n"
   ]
  },
  {
   "cell_type": "code",
   "execution_count": 84,
   "id": "5d599780",
   "metadata": {},
   "outputs": [
    {
     "name": "stdout",
     "output_type": "stream",
     "text": [
      "@^&$This is my apple\n"
     ]
    }
   ],
   "source": [
    "info = '@^&$This is my apple|(}@@^}}}'\n",
    "print(info.rstrip('@$^&(}|'))"
   ]
  },
  {
   "cell_type": "markdown",
   "id": "d1a59881",
   "metadata": {},
   "source": [
    "### ljust,rjust  & center"
   ]
  },
  {
   "cell_type": "code",
   "execution_count": 85,
   "id": "d3f4628a",
   "metadata": {},
   "outputs": [
    {
     "name": "stdout",
     "output_type": "stream",
     "text": [
      "Samuel Hello\n",
      "Samuel**** Hello\n",
      "Hello ****Samuel\n"
     ]
    }
   ],
   "source": [
    "name = \"Samuel\"\n",
    "greet = \"Hello\"\n",
    "print(name,greet)\n",
    "print(name.ljust(10,'*'), greet)\n",
    "# S a m u e l * * * * \n",
    "print(greet, name.rjust(10,'*'))\n",
    "# * * * * S a m u e l"
   ]
  },
  {
   "cell_type": "code",
   "execution_count": 86,
   "id": "90c193a3",
   "metadata": {},
   "outputs": [
    {
     "name": "stdout",
     "output_type": "stream",
     "text": [
      "*****Samuel@@@@@@@@@\n"
     ]
    }
   ],
   "source": [
    "name = \"Samuel\"\n",
    "greet = \"Hello\"\n",
    "# print(name,greet)\n",
    "print(name.ljust(15,'@').rjust(20,'*'))"
   ]
  },
  {
   "cell_type": "code",
   "execution_count": 87,
   "id": "747730fd",
   "metadata": {},
   "outputs": [
    {
     "name": "stdout",
     "output_type": "stream",
     "text": [
      "**Samuel**\n"
     ]
    }
   ],
   "source": [
    "name = \"Samuel\"\n",
    "print(name.center(10,'*'))"
   ]
  },
  {
   "cell_type": "markdown",
   "id": "219bb486",
   "metadata": {},
   "source": [
    "### Input Function"
   ]
  },
  {
   "cell_type": "code",
   "execution_count": 88,
   "id": "95ecbfef",
   "metadata": {},
   "outputs": [
    {
     "name": "stdout",
     "output_type": "stream",
     "text": [
      "1234\n"
     ]
    },
    {
     "data": {
      "text/plain": [
       "'1234'"
      ]
     },
     "execution_count": 88,
     "metadata": {},
     "output_type": "execute_result"
    }
   ],
   "source": [
    "# input()  --> get's input as string\n",
    "var = input()\n",
    "var"
   ]
  },
  {
   "cell_type": "code",
   "execution_count": 89,
   "id": "9aaf9031",
   "metadata": {},
   "outputs": [
    {
     "name": "stdout",
     "output_type": "stream",
     "text": [
      "1234\n"
     ]
    },
    {
     "data": {
      "text/plain": [
       "1234"
      ]
     },
     "execution_count": 89,
     "metadata": {},
     "output_type": "execute_result"
    }
   ],
   "source": [
    "var = int(input())\n",
    "var"
   ]
  },
  {
   "cell_type": "code",
   "execution_count": null,
   "id": "596d43f8",
   "metadata": {},
   "outputs": [],
   "source": [
    "printf(\"Enter a number....\");\n",
    "scanf(\"%d\",&var);"
   ]
  },
  {
   "cell_type": "code",
   "execution_count": 90,
   "id": "9a69e6c1",
   "metadata": {},
   "outputs": [
    {
     "name": "stdout",
     "output_type": "stream",
     "text": [
      "Enter a number....\n",
      "123\n"
     ]
    }
   ],
   "source": [
    "print(\"Enter a number....\")\n",
    "var = input()"
   ]
  },
  {
   "cell_type": "code",
   "execution_count": 91,
   "id": "ea59d77e",
   "metadata": {},
   "outputs": [
    {
     "name": "stdout",
     "output_type": "stream",
     "text": [
      "Enter a number....12345\n"
     ]
    },
    {
     "data": {
      "text/plain": [
       "12345"
      ]
     },
     "execution_count": 91,
     "metadata": {},
     "output_type": "execute_result"
    }
   ],
   "source": [
    "var = int(input(\"Enter a number....\"))\n",
    "var"
   ]
  },
  {
   "cell_type": "markdown",
   "id": "21be73e6",
   "metadata": {},
   "source": [
    "### Format Specifier"
   ]
  },
  {
   "cell_type": "code",
   "execution_count": 93,
   "id": "9c9fef93",
   "metadata": {},
   "outputs": [],
   "source": [
    "a = 10\n",
    "b = 23.45\n",
    "c = 'x'\n",
    "d = 'Samuel'\n",
    "e = 23+5j\n",
    "f = True\n"
   ]
  },
  {
   "cell_type": "code",
   "execution_count": 94,
   "id": "a1ff8c36",
   "metadata": {},
   "outputs": [
    {
     "name": "stdout",
     "output_type": "stream",
     "text": [
      "10 23.45 x Samuel (23+5j) True\n"
     ]
    }
   ],
   "source": [
    "print(a,b,c,d,e,f)"
   ]
  },
  {
   "cell_type": "code",
   "execution_count": 95,
   "id": "8647b729",
   "metadata": {
    "scrolled": true
   },
   "outputs": [
    {
     "name": "stdout",
     "output_type": "stream",
     "text": [
      "Int Val :  10 \n",
      "Float Val :  23.45 \n",
      "Char Val :  x \n",
      "String :  Samuel \n",
      "Comp Val:  (23+5j)\n"
     ]
    }
   ],
   "source": [
    "print(\"Int Val : \",a,\"\\nFloat Val : \",b, \n",
    "      \"\\nChar Val : \",c, \"\\nString : \",d , \"\\nComp Val: \",e )"
   ]
  },
  {
   "cell_type": "raw",
   "id": "3a476ddb",
   "metadata": {},
   "source": [
    "Data type                   Format Specifier\n",
    "--------------------------------------------\n",
    "\n",
    "    int                    %i\n",
    "    dec                    %d\n",
    "    octal                  %o\n",
    "    hexadecimal            %x or %X\n",
    "    float                  %f/%F or %e/%E or %g\n",
    "    char                   %c\n",
    "    string                 %s or %r\n",
    "    complex                %r\n",
    "    \n",
    "    %()"
   ]
  },
  {
   "cell_type": "code",
   "execution_count": 98,
   "id": "353c8e4c",
   "metadata": {},
   "outputs": [
    {
     "name": "stdout",
     "output_type": "stream",
     "text": [
      "Int Val : 10\n",
      "Float Val : 23.45\n",
      "Char Val : x\n",
      "String : Samuel\n",
      "Comp Val: (23+5j)\n"
     ]
    }
   ],
   "source": [
    "print(\"Int Val : %d\\nFloat Val : %g\\nChar Val : %c\\nString : %s\\nComp Val: %r\"\n",
    "                                                                            %(a,b,c,d,e))"
   ]
  },
  {
   "cell_type": "code",
   "execution_count": 99,
   "id": "32ee6be0",
   "metadata": {},
   "outputs": [
    {
     "name": "stdout",
     "output_type": "stream",
     "text": [
      "Float Val : 23.45\n",
      "Int Val :10\n",
      "String : Samuel\n",
      "Char Val : x\n",
      "Comp Val: (23+5j)\n"
     ]
    }
   ],
   "source": [
    "print(\"Float Val : {1}\\nInt Val :{0}\\nString : {3}\\nChar Val : {2}\\nComp Val: {4}\"\n",
    "                                                                      .format(a,b,c,d,e))"
   ]
  },
  {
   "cell_type": "code",
   "execution_count": 100,
   "id": "aae31371",
   "metadata": {},
   "outputs": [
    {
     "name": "stdout",
     "output_type": "stream",
     "text": [
      "Float Val : 23.45\n",
      "Int Val :10\n",
      "String : Samuel\n",
      "Char Val : x\n",
      "Comp Val: (23+5j)\n"
     ]
    }
   ],
   "source": [
    "print(f\"Float Val : {b}\\nInt Val :{a}\\nString : {d}\\nChar Val : {c}\\nComp Val: {e}\")"
   ]
  },
  {
   "cell_type": "code",
   "execution_count": 102,
   "id": "a055f1e8",
   "metadata": {},
   "outputs": [
    {
     "name": "stdout",
     "output_type": "stream",
     "text": [
      "Line one\n",
      "Line two\n"
     ]
    }
   ],
   "source": [
    "print(\"Line one\")\n",
    "print(\"Line two\")"
   ]
  },
  {
   "cell_type": "code",
   "execution_count": null,
   "id": "0a9ff342",
   "metadata": {},
   "outputs": [],
   "source": [
    "printf(\"Line one\")\n",
    "printf(\"Line two\")\n",
    "\n",
    "o/p\n",
    "---\n",
    "Line oneLine two"
   ]
  },
  {
   "cell_type": "code",
   "execution_count": 103,
   "id": "6107113d",
   "metadata": {},
   "outputs": [
    {
     "name": "stdout",
     "output_type": "stream",
     "text": [
      "10 20\n"
     ]
    }
   ],
   "source": [
    "a = 10\n",
    "b = 20\n",
    "print(a,b)"
   ]
  },
  {
   "cell_type": "code",
   "execution_count": null,
   "id": "db960c00",
   "metadata": {},
   "outputs": [],
   "source": [
    "printf(\"%d%d\",a,b);\n",
    "\n",
    "o/p\n",
    "---\n",
    "1020"
   ]
  },
  {
   "cell_type": "code",
   "execution_count": 105,
   "id": "bc76c911",
   "metadata": {},
   "outputs": [
    {
     "name": "stdout",
     "output_type": "stream",
     "text": [
      "10 20\n",
      "Hi\n"
     ]
    }
   ],
   "source": [
    "a = 10\n",
    "b = 20\n",
    "print(a,b,sep=' ',end='\\n')\n",
    "# 10 20 \\n\n",
    "# Hi\n",
    "print(\"Hi\")"
   ]
  },
  {
   "cell_type": "code",
   "execution_count": 106,
   "id": "968b24ee",
   "metadata": {},
   "outputs": [
    {
     "name": "stdout",
     "output_type": "stream",
     "text": [
      "10_20\tHi\n"
     ]
    }
   ],
   "source": [
    "print(a,b,sep='_',end='\\t')\n",
    "# 10_20         Hi\n",
    "print(\"Hi\")"
   ]
  },
  {
   "cell_type": "markdown",
   "id": "912c62ed",
   "metadata": {},
   "source": [
    "### Collections"
   ]
  },
  {
   "cell_type": "markdown",
   "id": "977b333f",
   "metadata": {},
   "source": [
    "1. List\n",
    "2. Tuple\n",
    "3. Set\n",
    "4. Dictionary"
   ]
  },
  {
   "cell_type": "code",
   "execution_count": null,
   "id": "3cf751a1",
   "metadata": {},
   "outputs": [],
   "source": []
  },
  {
   "cell_type": "markdown",
   "id": "afeb06d0",
   "metadata": {},
   "source": [
    "### List"
   ]
  },
  {
   "cell_type": "markdown",
   "id": "0e6108f7",
   "metadata": {},
   "source": [
    "1. List is an ordered collection of data\n",
    "2. we can store dis-similar data\n",
    "3. datas are enclosed within []"
   ]
  },
  {
   "cell_type": "code",
   "execution_count": 109,
   "id": "2dff0752",
   "metadata": {},
   "outputs": [
    {
     "name": "stdout",
     "output_type": "stream",
     "text": [
      "<class 'list'>\n",
      "[]\n"
     ]
    }
   ],
   "source": [
    "myList = []    #empty list\n",
    "print(type(myList))\n",
    "print(myList)"
   ]
  },
  {
   "cell_type": "code",
   "execution_count": 110,
   "id": "1654094b",
   "metadata": {},
   "outputs": [
    {
     "name": "stdout",
     "output_type": "stream",
     "text": [
      "[1, 2, 3, 4]\n"
     ]
    }
   ],
   "source": [
    "myLst = [1,2,3,4]  # list of integers\n",
    "print(myLst)"
   ]
  },
  {
   "cell_type": "code",
   "execution_count": 111,
   "id": "067042f0",
   "metadata": {},
   "outputs": [
    {
     "name": "stdout",
     "output_type": "stream",
     "text": [
      "[123, 'Samuel', 'M', 8000.0, 'India']\n"
     ]
    }
   ],
   "source": [
    "myLst = [123,'Samuel','M',8000.00,'India']\n",
    "print(myLst)"
   ]
  },
  {
   "cell_type": "markdown",
   "id": "a608ef2b",
   "metadata": {},
   "source": [
    "#### Indexing - List"
   ]
  },
  {
   "cell_type": "code",
   "execution_count": 112,
   "id": "2b80cfe3",
   "metadata": {},
   "outputs": [
    {
     "name": "stdout",
     "output_type": "stream",
     "text": [
      "8000.0\n"
     ]
    }
   ],
   "source": [
    "# [index-pos]\n",
    "print(myLst[3])"
   ]
  },
  {
   "cell_type": "code",
   "execution_count": 113,
   "id": "f058b8ae",
   "metadata": {},
   "outputs": [
    {
     "name": "stdout",
     "output_type": "stream",
     "text": [
      "[123, 'Samuel', 'M', 10000.0, 'India']\n"
     ]
    }
   ],
   "source": [
    "myLst[3] = 10000.00\n",
    "print(myLst)"
   ]
  },
  {
   "cell_type": "code",
   "execution_count": 114,
   "id": "f7eaa340",
   "metadata": {},
   "outputs": [
    {
     "name": "stdout",
     "output_type": "stream",
     "text": [
      "India\n"
     ]
    }
   ],
   "source": [
    "#[negative index]\n",
    "print(myLst[-1])"
   ]
  },
  {
   "cell_type": "markdown",
   "id": "32c7fb23",
   "metadata": {},
   "source": [
    "#### Slicing"
   ]
  },
  {
   "cell_type": "code",
   "execution_count": 116,
   "id": "935aabbf",
   "metadata": {},
   "outputs": [
    {
     "name": "stdout",
     "output_type": "stream",
     "text": [
      "['Samuel', 'M', 10000.0]\n"
     ]
    }
   ],
   "source": [
    "# [start-pos : stop-before-pos: step]\n",
    "\n",
    "print(myLst[1:4:])"
   ]
  },
  {
   "cell_type": "code",
   "execution_count": 117,
   "id": "1a608f78",
   "metadata": {},
   "outputs": [
    {
     "name": "stdout",
     "output_type": "stream",
     "text": [
      "['India', 10000.0, 'M', 'Samuel', 123]\n"
     ]
    }
   ],
   "source": [
    "print(myLst[::-1])"
   ]
  },
  {
   "cell_type": "markdown",
   "id": "744eefe0",
   "metadata": {},
   "source": [
    "#### Nested List"
   ]
  },
  {
   "cell_type": "code",
   "execution_count": 118,
   "id": "6784da0c",
   "metadata": {},
   "outputs": [
    {
     "name": "stdout",
     "output_type": "stream",
     "text": [
      "[90, 80, 70, 60, 50]\n"
     ]
    }
   ],
   "source": [
    "stud = [123,'Samuel',[90,80,70,60,50]]\n",
    "print(stud[2])"
   ]
  },
  {
   "cell_type": "code",
   "execution_count": 120,
   "id": "ac0088ca",
   "metadata": {},
   "outputs": [
    {
     "name": "stdout",
     "output_type": "stream",
     "text": [
      "m\n"
     ]
    }
   ],
   "source": [
    "stud = [123,'Samuel',[90,80,70,60,50]]\n",
    "print(stud[1][2])"
   ]
  },
  {
   "cell_type": "code",
   "execution_count": 121,
   "id": "2e0aff2d",
   "metadata": {},
   "outputs": [
    {
     "name": "stdout",
     "output_type": "stream",
     "text": [
      "[254, 'Samuel', [90, 80, 70, 60, 50]]\n"
     ]
    }
   ],
   "source": [
    "stud[0] = 254\n",
    "print(stud)"
   ]
  },
  {
   "cell_type": "code",
   "execution_count": 122,
   "id": "1f9345af",
   "metadata": {},
   "outputs": [
    {
     "name": "stdout",
     "output_type": "stream",
     "text": [
      "[254, 'Samuel', [90, 80, 70, 88, 50]]\n"
     ]
    }
   ],
   "source": [
    "# stud[2]   ==> [90, 80, 70, 60, 50]  [3]\n",
    "stud[2][3] = 88\n",
    "print(stud)"
   ]
  },
  {
   "cell_type": "code",
   "execution_count": 124,
   "id": "a7eca71a",
   "metadata": {},
   "outputs": [],
   "source": [
    "emp = myLst"
   ]
  },
  {
   "cell_type": "code",
   "execution_count": 127,
   "id": "50888cc5",
   "metadata": {},
   "outputs": [
    {
     "name": "stdout",
     "output_type": "stream",
     "text": [
      "[123, 'Samuel', 'M', 10000.0, 'India']\n",
      "140277411070464 140277411070464\n"
     ]
    }
   ],
   "source": [
    "print(emp)\n",
    "print(id(emp), id(myLst))"
   ]
  },
  {
   "cell_type": "code",
   "execution_count": 128,
   "id": "45d1df3a",
   "metadata": {},
   "outputs": [],
   "source": [
    "emp[1] = 'Edison'"
   ]
  },
  {
   "cell_type": "code",
   "execution_count": 129,
   "id": "ab1dc494",
   "metadata": {},
   "outputs": [
    {
     "name": "stdout",
     "output_type": "stream",
     "text": [
      "[123, 'Edison', 'M', 10000.0, 'India']\n"
     ]
    }
   ],
   "source": [
    "print(emp)"
   ]
  },
  {
   "cell_type": "code",
   "execution_count": 130,
   "id": "235cf313",
   "metadata": {},
   "outputs": [
    {
     "name": "stdout",
     "output_type": "stream",
     "text": [
      "[123, 'Edison', 'M', 10000.0, 'India']\n"
     ]
    }
   ],
   "source": [
    "print(myLst)"
   ]
  },
  {
   "cell_type": "code",
   "execution_count": 131,
   "id": "35cc7562",
   "metadata": {},
   "outputs": [
    {
     "name": "stdout",
     "output_type": "stream",
     "text": [
      "140277411070464 140277411070464\n"
     ]
    }
   ],
   "source": [
    "print(id(emp),id(myLst))"
   ]
  },
  {
   "cell_type": "code",
   "execution_count": 132,
   "id": "89a3604f",
   "metadata": {},
   "outputs": [
    {
     "name": "stdout",
     "output_type": "stream",
     "text": [
      "True\n"
     ]
    }
   ],
   "source": [
    "print(emp is myLst)"
   ]
  },
  {
   "cell_type": "code",
   "execution_count": 133,
   "id": "c97dbab6",
   "metadata": {},
   "outputs": [
    {
     "ename": "IndexError",
     "evalue": "list assignment index out of range",
     "output_type": "error",
     "traceback": [
      "\u001b[0;31m---------------------------------------------------------------------------\u001b[0m",
      "\u001b[0;31mIndexError\u001b[0m                                Traceback (most recent call last)",
      "\u001b[0;32m<ipython-input-133-39671a48da50>\u001b[0m in \u001b[0;36m<module>\u001b[0;34m\u001b[0m\n\u001b[1;32m      1\u001b[0m \u001b[0mempLst\u001b[0m \u001b[0;34m=\u001b[0m \u001b[0;34m[\u001b[0m\u001b[0;36m123\u001b[0m\u001b[0;34m,\u001b[0m\u001b[0;34m'Samuel'\u001b[0m\u001b[0;34m,\u001b[0m\u001b[0;34m'M'\u001b[0m\u001b[0;34m,\u001b[0m\u001b[0;36m8000.00\u001b[0m\u001b[0;34m,\u001b[0m\u001b[0;34m'India'\u001b[0m\u001b[0;34m]\u001b[0m\u001b[0;34m\u001b[0m\u001b[0;34m\u001b[0m\u001b[0m\n\u001b[1;32m      2\u001b[0m \u001b[0mempLst\u001b[0m\u001b[0;34m[\u001b[0m\u001b[0;36m1\u001b[0m\u001b[0;34m]\u001b[0m \u001b[0;34m=\u001b[0m \u001b[0;34m'Edison'\u001b[0m\u001b[0;34m\u001b[0m\u001b[0;34m\u001b[0m\u001b[0m\n\u001b[0;32m----> 3\u001b[0;31m \u001b[0mempLst\u001b[0m\u001b[0;34m[\u001b[0m\u001b[0;36m5\u001b[0m\u001b[0;34m]\u001b[0m \u001b[0;34m=\u001b[0m \u001b[0;34m'Training'\u001b[0m\u001b[0;34m\u001b[0m\u001b[0;34m\u001b[0m\u001b[0m\n\u001b[0m",
      "\u001b[0;31mIndexError\u001b[0m: list assignment index out of range"
     ]
    }
   ],
   "source": [
    "empLst = [123,'Samuel','M',8000.00,'India']\n",
    "empLst[1] = 'Edison'\n",
    "empLst[5] = 'Training'\n",
    "empLst."
   ]
  },
  {
   "cell_type": "markdown",
   "id": "be09277a",
   "metadata": {},
   "source": [
    "#### Methods - List"
   ]
  },
  {
   "cell_type": "markdown",
   "id": "da6dd8a2",
   "metadata": {},
   "source": [
    "##### append()"
   ]
  },
  {
   "cell_type": "code",
   "execution_count": 137,
   "id": "0cb0d29e",
   "metadata": {
    "scrolled": true
   },
   "outputs": [
    {
     "name": "stdout",
     "output_type": "stream",
     "text": [
      "[123, 'Samuel', 'M', 8000.0, 'India']\n",
      "[123, 'Samuel', 'M', 8000.0, 'India', 'Training']\n"
     ]
    }
   ],
   "source": [
    "empLst = [123,'Samuel','M',8000.00,'India']\n",
    "print(empLst)\n",
    "empLst.append('Training')\n",
    "print(empLst)"
   ]
  },
  {
   "cell_type": "code",
   "execution_count": 135,
   "id": "20969812",
   "metadata": {},
   "outputs": [
    {
     "name": "stdout",
     "output_type": "stream",
     "text": [
      "[123, 'Edison', [66, 77, 88, 99, 55]]\n"
     ]
    }
   ],
   "source": [
    "studlst = [123, 'Edison']\n",
    "mrk = [66,77,88,99,55]\n",
    "studlst.append(mrk)\n",
    "print(studlst)   # [123,'Edison',[66,77,88,99,55]]"
   ]
  },
  {
   "cell_type": "markdown",
   "id": "de293028",
   "metadata": {},
   "source": [
    "##### clear()"
   ]
  },
  {
   "cell_type": "code",
   "execution_count": 136,
   "id": "90b212ed",
   "metadata": {},
   "outputs": [
    {
     "name": "stdout",
     "output_type": "stream",
     "text": [
      "[]\n"
     ]
    }
   ],
   "source": [
    "empLst.clear()\n",
    "print(empLst)"
   ]
  },
  {
   "cell_type": "markdown",
   "id": "f17ed71b",
   "metadata": {},
   "source": [
    "##### copy()"
   ]
  },
  {
   "cell_type": "code",
   "execution_count": 139,
   "id": "f6a60d2c",
   "metadata": {},
   "outputs": [
    {
     "name": "stdout",
     "output_type": "stream",
     "text": [
      "[123, 'Samuel', 'M', 8000.0, 'India', 'Training']\n",
      "140277412636416 140277410545600\n"
     ]
    }
   ],
   "source": [
    "newemp = empLst.copy()\n",
    "print(newemp)\n",
    "print(id(newemp), id(empLst))"
   ]
  },
  {
   "cell_type": "code",
   "execution_count": 140,
   "id": "c012edfb",
   "metadata": {},
   "outputs": [
    {
     "name": "stdout",
     "output_type": "stream",
     "text": [
      "[123, 'Samuel', 'M', 8000.0, 'India', 'Learning & Development']\n",
      "[123, 'Samuel', 'M', 8000.0, 'India', 'Training']\n"
     ]
    }
   ],
   "source": [
    "newemp[5] = 'Learning & Development'\n",
    "print(newemp)\n",
    "print(empLst)"
   ]
  },
  {
   "cell_type": "markdown",
   "id": "185c07c5",
   "metadata": {},
   "source": [
    "##### count()"
   ]
  },
  {
   "cell_type": "code",
   "execution_count": 141,
   "id": "6fb6a869",
   "metadata": {},
   "outputs": [
    {
     "name": "stdout",
     "output_type": "stream",
     "text": [
      "4\n"
     ]
    }
   ],
   "source": [
    "mylst = [10,23,45,23,56,23,67,89,23,56,10]\n",
    "print(mylst.count(23))"
   ]
  },
  {
   "cell_type": "code",
   "execution_count": 156,
   "id": "a977aebb",
   "metadata": {},
   "outputs": [
    {
     "name": "stdout",
     "output_type": "stream",
     "text": [
      "1\n"
     ]
    }
   ],
   "source": [
    "mylst = [10,23,45,23,56,23,[67,89,23,56],10]\n",
    "print(mylst[6].count(23))"
   ]
  },
  {
   "cell_type": "markdown",
   "id": "3430f103",
   "metadata": {},
   "source": [
    "##### extend()"
   ]
  },
  {
   "cell_type": "code",
   "execution_count": 143,
   "id": "71b572e0",
   "metadata": {},
   "outputs": [
    {
     "name": "stdout",
     "output_type": "stream",
     "text": [
      "[123, 'Edison', 66, 77, 88, 99, 55]\n"
     ]
    }
   ],
   "source": [
    "studlst = [123, 'Edison']\n",
    "mrk = [66,77,88,99,55]\n",
    "studlst.extend(mrk)\n",
    "print(studlst)"
   ]
  },
  {
   "cell_type": "markdown",
   "id": "54fe78b6",
   "metadata": {},
   "source": [
    "##### insert()"
   ]
  },
  {
   "cell_type": "code",
   "execution_count": 150,
   "id": "861b2f3b",
   "metadata": {},
   "outputs": [
    {
     "name": "stdout",
     "output_type": "stream",
     "text": [
      "[123, 'Samuel', 'M', 8000.0, 'India']\n",
      "[123, 'Samuel', 'M', 8000.0, 'Training', 'India']\n"
     ]
    }
   ],
   "source": [
    "empLst = [123,'Samuel','M',8000.00,'India']\n",
    "print(empLst)\n",
    "empLst.insert(4,'Training')\n",
    "print(empLst)"
   ]
  },
  {
   "cell_type": "markdown",
   "id": "e8b02ba9",
   "metadata": {},
   "source": [
    "##### index()"
   ]
  },
  {
   "cell_type": "code",
   "execution_count": 145,
   "id": "6e516c26",
   "metadata": {},
   "outputs": [
    {
     "name": "stdout",
     "output_type": "stream",
     "text": [
      "4\n"
     ]
    }
   ],
   "source": [
    "print(empLst.index('Training'))"
   ]
  },
  {
   "cell_type": "markdown",
   "id": "b6166657",
   "metadata": {},
   "source": [
    "##### pop()"
   ]
  },
  {
   "cell_type": "code",
   "execution_count": 146,
   "id": "bb95369c",
   "metadata": {},
   "outputs": [
    {
     "name": "stdout",
     "output_type": "stream",
     "text": [
      "India\n",
      "[123, 'Samuel', 'M', 8000.0, 'Training']\n"
     ]
    }
   ],
   "source": [
    "print(empLst.pop(5))\n",
    "print(empLst)"
   ]
  },
  {
   "cell_type": "code",
   "execution_count": 157,
   "id": "263b1173",
   "metadata": {},
   "outputs": [
    {
     "name": "stdout",
     "output_type": "stream",
     "text": [
      "3\n",
      "[11, 22, 33, 44, [1, 2, 4, 5], 90, 67]\n"
     ]
    }
   ],
   "source": [
    "lst = [11,22,33,44,[1,2,3,4,5],90,67]\n",
    "print(lst[4].pop(2))\n",
    "print(lst)"
   ]
  },
  {
   "cell_type": "code",
   "execution_count": 148,
   "id": "abb06ffe",
   "metadata": {},
   "outputs": [
    {
     "name": "stdout",
     "output_type": "stream",
     "text": [
      "67\n"
     ]
    }
   ],
   "source": [
    "print(lst.pop())"
   ]
  },
  {
   "cell_type": "markdown",
   "id": "6fcfd9f8",
   "metadata": {},
   "source": [
    "##### remove()"
   ]
  },
  {
   "cell_type": "code",
   "execution_count": 151,
   "id": "ae748cf6",
   "metadata": {},
   "outputs": [
    {
     "name": "stdout",
     "output_type": "stream",
     "text": [
      "[123, 'Samuel', 'M', 8000.0, 'Training']\n"
     ]
    }
   ],
   "source": [
    "empLst.remove('India')\n",
    "print(empLst)"
   ]
  },
  {
   "cell_type": "code",
   "execution_count": 152,
   "id": "c0bee1bb",
   "metadata": {},
   "outputs": [],
   "source": [
    "lst = [11,22,33,44,[1,2,3,4,5],90,69]\n",
    "lst.remove([1,2,3,4,5])"
   ]
  },
  {
   "cell_type": "code",
   "execution_count": 153,
   "id": "420ec9b6",
   "metadata": {},
   "outputs": [
    {
     "name": "stdout",
     "output_type": "stream",
     "text": [
      "[11, 22, 33, 44, 90, 69]\n"
     ]
    }
   ],
   "source": [
    "print(lst)"
   ]
  },
  {
   "cell_type": "markdown",
   "id": "ac184e68",
   "metadata": {},
   "source": [
    "##### reverse()"
   ]
  },
  {
   "cell_type": "code",
   "execution_count": 158,
   "id": "d9466125",
   "metadata": {},
   "outputs": [
    {
     "name": "stdout",
     "output_type": "stream",
     "text": [
      "[66, 90, [1, 2, 3, 4, 5], 44, 33, 22, 11]\n"
     ]
    }
   ],
   "source": [
    "lst = [11,22,33,44,[1,2,3,4,5],90,66]\n",
    "lst.reverse()\n",
    "print(lst)"
   ]
  },
  {
   "cell_type": "markdown",
   "id": "368af0cc",
   "metadata": {},
   "source": [
    "##### sort()"
   ]
  },
  {
   "cell_type": "code",
   "execution_count": 159,
   "id": "46ef6204",
   "metadata": {},
   "outputs": [
    {
     "name": "stdout",
     "output_type": "stream",
     "text": [
      "[11, 22, 33, 44, 66, 90]\n"
     ]
    }
   ],
   "source": [
    "lst = [11,22,33,44,90,66]\n",
    "lst.sort()\n",
    "print(lst)"
   ]
  },
  {
   "cell_type": "code",
   "execution_count": 160,
   "id": "5454cf9d",
   "metadata": {},
   "outputs": [
    {
     "name": "stdout",
     "output_type": "stream",
     "text": [
      "[90, 66, 44, 33, 22, 11]\n"
     ]
    }
   ],
   "source": [
    "lst = [11,22,33,44,90,66]\n",
    "lst.sort(reverse=True)\n",
    "print(lst)"
   ]
  },
  {
   "cell_type": "code",
   "execution_count": null,
   "id": "5078687a",
   "metadata": {},
   "outputs": [],
   "source": [
    "del lst[3]"
   ]
  },
  {
   "cell_type": "code",
   "execution_count": null,
   "id": "58066182",
   "metadata": {},
   "outputs": [],
   "source": [
    "lst"
   ]
  },
  {
   "cell_type": "code",
   "execution_count": null,
   "id": "0901838a",
   "metadata": {},
   "outputs": [],
   "source": [
    "del lst"
   ]
  },
  {
   "cell_type": "code",
   "execution_count": null,
   "id": "53f3b607",
   "metadata": {},
   "outputs": [],
   "source": [
    "print(lst)"
   ]
  },
  {
   "cell_type": "markdown",
   "id": "8fec68f6",
   "metadata": {},
   "source": [
    "#### Common Functions"
   ]
  },
  {
   "cell_type": "code",
   "execution_count": null,
   "id": "a1ae2e95",
   "metadata": {},
   "outputs": [],
   "source": [
    "min()\n",
    "max()\n",
    "sum()\n",
    "len()\n",
    "sorted()"
   ]
  },
  {
   "cell_type": "code",
   "execution_count": 161,
   "id": "57ef5497",
   "metadata": {},
   "outputs": [],
   "source": [
    "mylst = [12,45,67,23,45,11,43]"
   ]
  },
  {
   "cell_type": "code",
   "execution_count": 162,
   "id": "8e672427",
   "metadata": {},
   "outputs": [
    {
     "name": "stdout",
     "output_type": "stream",
     "text": [
      "11\n"
     ]
    }
   ],
   "source": [
    "print(min(mylst))"
   ]
  },
  {
   "cell_type": "code",
   "execution_count": 163,
   "id": "9ff90e51",
   "metadata": {},
   "outputs": [
    {
     "name": "stdout",
     "output_type": "stream",
     "text": [
      "67\n"
     ]
    }
   ],
   "source": [
    "print(max(mylst))"
   ]
  },
  {
   "cell_type": "code",
   "execution_count": 164,
   "id": "15c6cbe1",
   "metadata": {},
   "outputs": [
    {
     "name": "stdout",
     "output_type": "stream",
     "text": [
      "246\n"
     ]
    }
   ],
   "source": [
    "print(sum(mylst))"
   ]
  },
  {
   "cell_type": "code",
   "execution_count": 165,
   "id": "1826f4b6",
   "metadata": {},
   "outputs": [
    {
     "name": "stdout",
     "output_type": "stream",
     "text": [
      "7\n"
     ]
    }
   ],
   "source": [
    "print(len(mylst))"
   ]
  },
  {
   "cell_type": "code",
   "execution_count": 166,
   "id": "827c3238",
   "metadata": {},
   "outputs": [
    {
     "name": "stdout",
     "output_type": "stream",
     "text": [
      "[11, 12, 23, 43, 45, 45, 67]\n",
      "[12, 45, 67, 23, 45, 11, 43]\n"
     ]
    }
   ],
   "source": [
    "print(sorted(mylst))\n",
    "print(mylst)"
   ]
  },
  {
   "cell_type": "markdown",
   "id": "ab83ca93",
   "metadata": {},
   "source": [
    "### Tuple"
   ]
  },
  {
   "cell_type": "markdown",
   "id": "2bc2cc13",
   "metadata": {},
   "source": [
    "1. tuple is immutable\n",
    "2. we can use indexing and slicing"
   ]
  },
  {
   "cell_type": "code",
   "execution_count": null,
   "id": "ce14664c",
   "metadata": {},
   "outputs": [],
   "source": [
    "mytup = () # Empty tuple"
   ]
  },
  {
   "cell_type": "code",
   "execution_count": 167,
   "id": "ab9b8e15",
   "metadata": {},
   "outputs": [
    {
     "name": "stdout",
     "output_type": "stream",
     "text": [
      "44\n"
     ]
    }
   ],
   "source": [
    "mytup = (11,22,66,33,44)\n",
    "print(mytup[4])"
   ]
  },
  {
   "cell_type": "code",
   "execution_count": 168,
   "id": "03a1c841",
   "metadata": {},
   "outputs": [
    {
     "ename": "TypeError",
     "evalue": "'tuple' object does not support item assignment",
     "output_type": "error",
     "traceback": [
      "\u001b[0;31m---------------------------------------------------------------------------\u001b[0m",
      "\u001b[0;31mTypeError\u001b[0m                                 Traceback (most recent call last)",
      "\u001b[0;32m<ipython-input-168-341362ec4672>\u001b[0m in \u001b[0;36m<module>\u001b[0;34m\u001b[0m\n\u001b[0;32m----> 1\u001b[0;31m \u001b[0mmytup\u001b[0m\u001b[0;34m[\u001b[0m\u001b[0;36m2\u001b[0m\u001b[0;34m]\u001b[0m \u001b[0;34m=\u001b[0m \u001b[0;36m34\u001b[0m\u001b[0;34m\u001b[0m\u001b[0;34m\u001b[0m\u001b[0m\n\u001b[0m",
      "\u001b[0;31mTypeError\u001b[0m: 'tuple' object does not support item assignment"
     ]
    }
   ],
   "source": [
    "mytup[2] = 34"
   ]
  },
  {
   "cell_type": "code",
   "execution_count": 169,
   "id": "0f20b9e6",
   "metadata": {},
   "outputs": [
    {
     "name": "stdout",
     "output_type": "stream",
     "text": [
      "(1, 2, 3, 4, [11, 22, 33, 123], 5, 6, 7)\n"
     ]
    }
   ],
   "source": [
    "mynewTup = (1,2,3,4,[11,22,33,44],5,6,7)\n",
    "mynewTup[4][3] = 123\n",
    "print(mynewTup)"
   ]
  },
  {
   "cell_type": "code",
   "execution_count": null,
   "id": "984e1e05",
   "metadata": {},
   "outputs": [],
   "source": [
    "mynewTup[4] = [10,20,30] "
   ]
  },
  {
   "cell_type": "markdown",
   "id": "86ac07bf",
   "metadata": {},
   "source": [
    "#### Methods "
   ]
  },
  {
   "cell_type": "markdown",
   "id": "7c6c337b",
   "metadata": {},
   "source": [
    "##### count()"
   ]
  },
  {
   "cell_type": "code",
   "execution_count": 170,
   "id": "60bf6c94",
   "metadata": {},
   "outputs": [
    {
     "name": "stdout",
     "output_type": "stream",
     "text": [
      "1\n"
     ]
    }
   ],
   "source": [
    "print(mytup.count(66))"
   ]
  },
  {
   "cell_type": "markdown",
   "id": "21e0835f",
   "metadata": {},
   "source": [
    "##### index()"
   ]
  },
  {
   "cell_type": "code",
   "execution_count": 171,
   "id": "5ee8e863",
   "metadata": {},
   "outputs": [
    {
     "name": "stdout",
     "output_type": "stream",
     "text": [
      "4\n"
     ]
    }
   ],
   "source": [
    "print(mytup.index(44))"
   ]
  },
  {
   "cell_type": "markdown",
   "id": "eee18884",
   "metadata": {},
   "source": [
    "#### Common Functions"
   ]
  },
  {
   "cell_type": "code",
   "execution_count": null,
   "id": "330c3a18",
   "metadata": {},
   "outputs": [],
   "source": [
    "min()\n",
    "max()\n",
    "sum()\n",
    "len()\n",
    "sorted()"
   ]
  },
  {
   "cell_type": "code",
   "execution_count": 172,
   "id": "580524b1",
   "metadata": {},
   "outputs": [],
   "source": [
    "mytup = (12,45,67,23,45,11,43)"
   ]
  },
  {
   "cell_type": "code",
   "execution_count": 173,
   "id": "b4c618b8",
   "metadata": {},
   "outputs": [
    {
     "name": "stdout",
     "output_type": "stream",
     "text": [
      "11\n"
     ]
    }
   ],
   "source": [
    "print(min(mytup))"
   ]
  },
  {
   "cell_type": "code",
   "execution_count": 174,
   "id": "9491979f",
   "metadata": {},
   "outputs": [
    {
     "name": "stdout",
     "output_type": "stream",
     "text": [
      "67\n"
     ]
    }
   ],
   "source": [
    "print(max(mytup))"
   ]
  },
  {
   "cell_type": "code",
   "execution_count": 175,
   "id": "5a308609",
   "metadata": {},
   "outputs": [
    {
     "name": "stdout",
     "output_type": "stream",
     "text": [
      "246\n"
     ]
    }
   ],
   "source": [
    "print(sum(mytup))"
   ]
  },
  {
   "cell_type": "code",
   "execution_count": 176,
   "id": "12d9fbae",
   "metadata": {},
   "outputs": [
    {
     "name": "stdout",
     "output_type": "stream",
     "text": [
      "7\n"
     ]
    }
   ],
   "source": [
    "print(len(mytup))"
   ]
  },
  {
   "cell_type": "code",
   "execution_count": 177,
   "id": "e30ff73d",
   "metadata": {},
   "outputs": [
    {
     "name": "stdout",
     "output_type": "stream",
     "text": [
      "[11, 12, 23, 43, 45, 45, 67]\n",
      "(12, 45, 67, 23, 45, 11, 43)\n"
     ]
    }
   ],
   "source": [
    "print(sorted(mytup))\n",
    "print(mytup)"
   ]
  },
  {
   "cell_type": "code",
   "execution_count": 179,
   "id": "648de5d0",
   "metadata": {},
   "outputs": [
    {
     "name": "stdout",
     "output_type": "stream",
     "text": [
      "['Blesson', 'Edison', 'Jordan', 'Samuel']\n"
     ]
    }
   ],
   "source": [
    "namelst = ('Samuel','Edison','Blesson','Jordan')\n",
    "print(sorted(namelst))"
   ]
  },
  {
   "cell_type": "code",
   "execution_count": null,
   "id": "559523b3",
   "metadata": {},
   "outputs": [],
   "source": []
  },
  {
   "cell_type": "markdown",
   "id": "4bb0a78e",
   "metadata": {},
   "source": [
    "### Set"
   ]
  },
  {
   "cell_type": "markdown",
   "id": "c4518335",
   "metadata": {},
   "source": [
    "1. it is an unordered collection of data\n",
    "2. only unique values are stored\n",
    "3. Indexing and slicing is not possible"
   ]
  },
  {
   "cell_type": "code",
   "execution_count": 180,
   "id": "6e71c1ec",
   "metadata": {},
   "outputs": [
    {
     "data": {
      "text/plain": [
       "{2345, 56789, 87659, 98765, 123456, 6789987}"
      ]
     },
     "execution_count": 180,
     "metadata": {},
     "output_type": "execute_result"
    }
   ],
   "source": [
    "myset = {2345,56789,6789987,87659,123456,98765}\n",
    "myset"
   ]
  },
  {
   "cell_type": "code",
   "execution_count": 181,
   "id": "c0a3cef0",
   "metadata": {},
   "outputs": [
    {
     "ename": "TypeError",
     "evalue": "'set' object is not subscriptable",
     "output_type": "error",
     "traceback": [
      "\u001b[0;31m---------------------------------------------------------------------------\u001b[0m",
      "\u001b[0;31mTypeError\u001b[0m                                 Traceback (most recent call last)",
      "\u001b[0;32m<ipython-input-181-56799a5fc18d>\u001b[0m in \u001b[0;36m<module>\u001b[0;34m\u001b[0m\n\u001b[1;32m      1\u001b[0m \u001b[0;31m#indexing is not possible\u001b[0m\u001b[0;34m\u001b[0m\u001b[0;34m\u001b[0m\u001b[0;34m\u001b[0m\u001b[0m\n\u001b[0;32m----> 2\u001b[0;31m \u001b[0mmyset\u001b[0m\u001b[0;34m[\u001b[0m\u001b[0;36m3\u001b[0m\u001b[0;34m]\u001b[0m\u001b[0;34m\u001b[0m\u001b[0;34m\u001b[0m\u001b[0m\n\u001b[0m",
      "\u001b[0;31mTypeError\u001b[0m: 'set' object is not subscriptable"
     ]
    }
   ],
   "source": [
    "#indexing is not possible\n",
    "myset[3]"
   ]
  },
  {
   "cell_type": "code",
   "execution_count": 182,
   "id": "ff557b12",
   "metadata": {},
   "outputs": [
    {
     "ename": "TypeError",
     "evalue": "'set' object is not subscriptable",
     "output_type": "error",
     "traceback": [
      "\u001b[0;31m---------------------------------------------------------------------------\u001b[0m",
      "\u001b[0;31mTypeError\u001b[0m                                 Traceback (most recent call last)",
      "\u001b[0;32m<ipython-input-182-7218547b19ef>\u001b[0m in \u001b[0;36m<module>\u001b[0;34m\u001b[0m\n\u001b[1;32m      1\u001b[0m \u001b[0;31m#Slicing is not possible\u001b[0m\u001b[0;34m\u001b[0m\u001b[0;34m\u001b[0m\u001b[0;34m\u001b[0m\u001b[0m\n\u001b[0;32m----> 2\u001b[0;31m \u001b[0mmyset\u001b[0m\u001b[0;34m[\u001b[0m\u001b[0;36m2\u001b[0m\u001b[0;34m:\u001b[0m\u001b[0;36m4\u001b[0m\u001b[0;34m]\u001b[0m\u001b[0;34m\u001b[0m\u001b[0;34m\u001b[0m\u001b[0m\n\u001b[0m",
      "\u001b[0;31mTypeError\u001b[0m: 'set' object is not subscriptable"
     ]
    }
   ],
   "source": [
    "#Slicing is not possible\n",
    "myset[2:4]"
   ]
  },
  {
   "cell_type": "code",
   "execution_count": 190,
   "id": "90be9d6f",
   "metadata": {},
   "outputs": [
    {
     "data": {
      "text/plain": [
       "{2345, 56789, 87659, 98765, 123456, 6789987}"
      ]
     },
     "execution_count": 190,
     "metadata": {},
     "output_type": "execute_result"
    }
   ],
   "source": [
    "myset = {2345,56789,6789987,2345,87659,123456,56789,98765,2345}\n",
    "myset"
   ]
  },
  {
   "cell_type": "code",
   "execution_count": 184,
   "id": "0102c988",
   "metadata": {},
   "outputs": [
    {
     "data": {
      "text/plain": [
       "{(12+3j), 123, 98765.893, 'Samuel', True}"
      ]
     },
     "execution_count": 184,
     "metadata": {},
     "output_type": "execute_result"
    }
   ],
   "source": [
    "myinfo = {123, 'Samuel',98765.893,12+3j,True}\n",
    "myinfo"
   ]
  },
  {
   "cell_type": "markdown",
   "id": "99c012a8",
   "metadata": {},
   "source": [
    "### Methods - Set "
   ]
  },
  {
   "cell_type": "code",
   "execution_count": null,
   "id": "8aeb91bb",
   "metadata": {},
   "outputs": [],
   "source": [
    "() ==> empty tuple\n",
    "[] ==> empty list\n",
    "{} ==> empty dict\n",
    "set()  ==> empty set "
   ]
  },
  {
   "cell_type": "markdown",
   "id": "6dbdb917",
   "metadata": {},
   "source": [
    "#### add()"
   ]
  },
  {
   "cell_type": "code",
   "execution_count": null,
   "id": "6a1c6d95",
   "metadata": {},
   "outputs": [],
   "source": [
    "myset.add(918273645)\n",
    "myset"
   ]
  },
  {
   "cell_type": "code",
   "execution_count": null,
   "id": "b0876df4",
   "metadata": {},
   "outputs": [],
   "source": [
    "myset.add(91645)\n",
    "myset"
   ]
  },
  {
   "cell_type": "markdown",
   "id": "7af9cdf6",
   "metadata": {},
   "source": [
    "#### clear()"
   ]
  },
  {
   "cell_type": "code",
   "execution_count": 185,
   "id": "172b986c",
   "metadata": {},
   "outputs": [
    {
     "data": {
      "text/plain": [
       "set()"
      ]
     },
     "execution_count": 185,
     "metadata": {},
     "output_type": "execute_result"
    }
   ],
   "source": [
    "myset.clear()\n",
    "myset"
   ]
  },
  {
   "cell_type": "markdown",
   "id": "a875c41d",
   "metadata": {},
   "source": [
    "#### remove() & discard()"
   ]
  },
  {
   "cell_type": "code",
   "execution_count": 187,
   "id": "ad7351a1",
   "metadata": {},
   "outputs": [
    {
     "data": {
      "text/plain": [
       "{2345, 56789, 87659, 98765, 123456, 6789987}"
      ]
     },
     "execution_count": 187,
     "metadata": {},
     "output_type": "execute_result"
    }
   ],
   "source": [
    "myset"
   ]
  },
  {
   "cell_type": "code",
   "execution_count": 188,
   "id": "4ca37b7b",
   "metadata": {},
   "outputs": [
    {
     "data": {
      "text/plain": [
       "{2345, 56789, 87659, 123456, 6789987}"
      ]
     },
     "execution_count": 188,
     "metadata": {},
     "output_type": "execute_result"
    }
   ],
   "source": [
    "myset.remove(98765)\n",
    "myset"
   ]
  },
  {
   "cell_type": "code",
   "execution_count": 189,
   "id": "355baa6c",
   "metadata": {},
   "outputs": [
    {
     "ename": "KeyError",
     "evalue": "98765",
     "output_type": "error",
     "traceback": [
      "\u001b[0;31m---------------------------------------------------------------------------\u001b[0m",
      "\u001b[0;31mKeyError\u001b[0m                                  Traceback (most recent call last)",
      "\u001b[0;32m<ipython-input-189-562e86c5b925>\u001b[0m in \u001b[0;36m<module>\u001b[0;34m\u001b[0m\n\u001b[0;32m----> 1\u001b[0;31m \u001b[0mmyset\u001b[0m\u001b[0;34m.\u001b[0m\u001b[0mremove\u001b[0m\u001b[0;34m(\u001b[0m\u001b[0;36m98765\u001b[0m\u001b[0;34m)\u001b[0m\u001b[0;34m\u001b[0m\u001b[0;34m\u001b[0m\u001b[0m\n\u001b[0m\u001b[1;32m      2\u001b[0m \u001b[0mmyset\u001b[0m\u001b[0;34m\u001b[0m\u001b[0;34m\u001b[0m\u001b[0m\n",
      "\u001b[0;31mKeyError\u001b[0m: 98765"
     ]
    }
   ],
   "source": [
    "myset.remove(98765)\n",
    "myset"
   ]
  },
  {
   "cell_type": "code",
   "execution_count": 191,
   "id": "c5619e44",
   "metadata": {},
   "outputs": [
    {
     "data": {
      "text/plain": [
       "{2345, 56789, 87659, 123456, 6789987}"
      ]
     },
     "execution_count": 191,
     "metadata": {},
     "output_type": "execute_result"
    }
   ],
   "source": [
    "myset.discard(98765)\n",
    "myset"
   ]
  },
  {
   "cell_type": "code",
   "execution_count": 192,
   "id": "9137ff7f",
   "metadata": {},
   "outputs": [
    {
     "data": {
      "text/plain": [
       "{2345, 56789, 87659, 123456, 6789987}"
      ]
     },
     "execution_count": 192,
     "metadata": {},
     "output_type": "execute_result"
    }
   ],
   "source": [
    "myset.discard(98765)\n",
    "myset"
   ]
  },
  {
   "cell_type": "markdown",
   "id": "6f478ad8",
   "metadata": {},
   "source": [
    "#### pop()"
   ]
  },
  {
   "cell_type": "code",
   "execution_count": 193,
   "id": "85aa0804",
   "metadata": {},
   "outputs": [
    {
     "name": "stdout",
     "output_type": "stream",
     "text": [
      "{123456, 6789987, 2345, 87659, 56789}\n",
      "123456\n"
     ]
    }
   ],
   "source": [
    "print(myset)\n",
    "print(myset.pop())"
   ]
  },
  {
   "cell_type": "code",
   "execution_count": 194,
   "id": "080a7aae",
   "metadata": {},
   "outputs": [
    {
     "name": "stdout",
     "output_type": "stream",
     "text": [
      "{6789987, 2345, 87659, 56789}\n",
      "6789987\n"
     ]
    }
   ],
   "source": [
    "print(myset)\n",
    "print(myset.pop())"
   ]
  },
  {
   "cell_type": "markdown",
   "id": "3a79a840",
   "metadata": {},
   "source": [
    "#### update()"
   ]
  },
  {
   "cell_type": "code",
   "execution_count": 195,
   "id": "d9edfe43",
   "metadata": {},
   "outputs": [
    {
     "name": "stdout",
     "output_type": "stream",
     "text": [
      "{1, 2, 3, 4, 5, 2345, 87659, 56789}\n"
     ]
    }
   ],
   "source": [
    "lst = [1,2,3,4,5]\n",
    "myset.update(lst)\n",
    "print(myset)"
   ]
  },
  {
   "cell_type": "code",
   "execution_count": 196,
   "id": "7edb7624",
   "metadata": {},
   "outputs": [
    {
     "name": "stdout",
     "output_type": "stream",
     "text": [
      "{1, 2, 3, 4, 5, 2345, 41, 87659, 11, 13, 15, 56789, 21}\n"
     ]
    }
   ],
   "source": [
    "tup = (11,21,13,41,15)\n",
    "myset.update(tup)\n",
    "print(myset)"
   ]
  },
  {
   "cell_type": "markdown",
   "id": "fdbf31fc",
   "metadata": {},
   "source": [
    "### Mathematical Process"
   ]
  },
  {
   "cell_type": "code",
   "execution_count": null,
   "id": "e173f057",
   "metadata": {},
   "outputs": [],
   "source": [
    "#Union\n",
    "#intersection\n",
    "#difference\n",
    "#symmetric_difference"
   ]
  },
  {
   "cell_type": "code",
   "execution_count": 198,
   "id": "f6bb84e5",
   "metadata": {},
   "outputs": [],
   "source": [
    "science_grp = {'English','Vernacular','Physics','Chemistry','Maths','Computer Science'}\n",
    "puresci_grp = {'English','Vernacular','Botany','Zoology','Physics','Chemistry'}\n",
    "arts_grp = {'English','Vernacular','Economics','Commerce','Accounts','Computer Science'}"
   ]
  },
  {
   "cell_type": "markdown",
   "id": "8baee3a4",
   "metadata": {},
   "source": [
    "#### union()"
   ]
  },
  {
   "cell_type": "code",
   "execution_count": 199,
   "id": "ebf238d1",
   "metadata": {},
   "outputs": [
    {
     "name": "stdout",
     "output_type": "stream",
     "text": [
      "{'Maths', 'Vernacular', 'Accounts', 'Economics', 'English', 'Commerce', 'Chemistry', 'Computer Science', 'Physics'}\n"
     ]
    }
   ],
   "source": [
    "print(science_grp.union(arts_grp))\n"
   ]
  },
  {
   "cell_type": "code",
   "execution_count": null,
   "id": "08a018af",
   "metadata": {},
   "outputs": [],
   "source": []
  },
  {
   "cell_type": "markdown",
   "id": "385359a2",
   "metadata": {},
   "source": [
    "#### intersection()"
   ]
  },
  {
   "cell_type": "code",
   "execution_count": 200,
   "id": "5773218b",
   "metadata": {},
   "outputs": [
    {
     "name": "stdout",
     "output_type": "stream",
     "text": [
      "{'Computer Science', 'English', 'Vernacular'}\n"
     ]
    }
   ],
   "source": [
    "print(science_grp.intersection(arts_grp))"
   ]
  },
  {
   "cell_type": "code",
   "execution_count": 201,
   "id": "f31199b9",
   "metadata": {},
   "outputs": [
    {
     "name": "stdout",
     "output_type": "stream",
     "text": [
      "{'Computer Science', 'English', 'Vernacular'}\n"
     ]
    }
   ],
   "source": [
    "print(arts_grp.intersection(science_grp))"
   ]
  },
  {
   "cell_type": "code",
   "execution_count": 202,
   "id": "6f28d835",
   "metadata": {},
   "outputs": [
    {
     "name": "stdout",
     "output_type": "stream",
     "text": [
      "{'Chemistry', 'English', 'Physics', 'Vernacular'}\n"
     ]
    }
   ],
   "source": [
    "print(science_grp.intersection(puresci_grp))"
   ]
  },
  {
   "cell_type": "code",
   "execution_count": 203,
   "id": "e7f042aa",
   "metadata": {},
   "outputs": [
    {
     "name": "stdout",
     "output_type": "stream",
     "text": [
      "{'English', 'Vernacular'}\n"
     ]
    }
   ],
   "source": [
    "print(arts_grp.intersection(puresci_grp))"
   ]
  },
  {
   "cell_type": "markdown",
   "id": "52ef027c",
   "metadata": {},
   "source": [
    "#### difference()"
   ]
  },
  {
   "cell_type": "code",
   "execution_count": null,
   "id": "0276719b",
   "metadata": {},
   "outputs": [],
   "source": [
    "science_grp = {'English','Vernacular','Physics','Chemistry','Maths','Computer Science'}\n",
    "arts_grp = {'English','Vernacular','Economics','Commerce','Accounts','Computer Science'}"
   ]
  },
  {
   "cell_type": "code",
   "execution_count": 204,
   "id": "48c2b7dc",
   "metadata": {},
   "outputs": [
    {
     "name": "stdout",
     "output_type": "stream",
     "text": [
      "{'Maths', 'Chemistry', 'Physics'}\n"
     ]
    }
   ],
   "source": [
    "print(science_grp.difference(arts_grp))"
   ]
  },
  {
   "cell_type": "code",
   "execution_count": 205,
   "id": "1531ef20",
   "metadata": {},
   "outputs": [
    {
     "name": "stdout",
     "output_type": "stream",
     "text": [
      "{'Accounts', 'Economics', 'Commerce'}\n"
     ]
    }
   ],
   "source": [
    "print(arts_grp.difference(science_grp))"
   ]
  },
  {
   "cell_type": "markdown",
   "id": "ae16e836",
   "metadata": {},
   "source": [
    "#### symmetric_difference()"
   ]
  },
  {
   "cell_type": "code",
   "execution_count": null,
   "id": "95ed100e",
   "metadata": {},
   "outputs": [],
   "source": [
    "science_grp = {'English','Vernacular','Physics','Chemistry','Maths','Computer Science'}\n",
    "puresci_grp = {'English','Vernacular','Botany','Zoology','Physics','Chemistry'}\n",
    "arts_grp = {'English','Vernacular','Economics','Commerce','Accounts','Computer Science'}"
   ]
  },
  {
   "cell_type": "code",
   "execution_count": 206,
   "id": "2a124f9b",
   "metadata": {},
   "outputs": [
    {
     "name": "stdout",
     "output_type": "stream",
     "text": [
      "{'Maths', 'Commerce', 'Chemistry', 'Accounts', 'Economics', 'Physics'}\n"
     ]
    }
   ],
   "source": [
    "print(science_grp.symmetric_difference(arts_grp))"
   ]
  },
  {
   "cell_type": "code",
   "execution_count": 207,
   "id": "fd209868",
   "metadata": {},
   "outputs": [
    {
     "name": "stdout",
     "output_type": "stream",
     "text": [
      "{'Maths', 'Accounts', 'Economics', 'Commerce', 'Chemistry', 'Physics'}\n"
     ]
    }
   ],
   "source": [
    "print(arts_grp.symmetric_difference(science_grp))"
   ]
  },
  {
   "cell_type": "markdown",
   "id": "7c77ccc1",
   "metadata": {},
   "source": [
    "### Boolean Methods - Set"
   ]
  },
  {
   "cell_type": "markdown",
   "id": "14918c1d",
   "metadata": {},
   "source": [
    "#### isdisjoin()"
   ]
  },
  {
   "cell_type": "code",
   "execution_count": 208,
   "id": "c52e7a3b",
   "metadata": {},
   "outputs": [
    {
     "name": "stdout",
     "output_type": "stream",
     "text": [
      "{34, 12, 45, 23} {32, 43, 21, 54}\n"
     ]
    }
   ],
   "source": [
    "myset1 = {12,23,34,45}\n",
    "myset2 = {54,43,32,21}\n",
    "print(myset1, myset2)"
   ]
  },
  {
   "cell_type": "code",
   "execution_count": 209,
   "id": "5680cac5",
   "metadata": {},
   "outputs": [
    {
     "name": "stdout",
     "output_type": "stream",
     "text": [
      "True\n"
     ]
    }
   ],
   "source": [
    "print(myset1.isdisjoint(myset2))"
   ]
  },
  {
   "cell_type": "code",
   "execution_count": 210,
   "id": "c3a66e10",
   "metadata": {},
   "outputs": [
    {
     "name": "stdout",
     "output_type": "stream",
     "text": [
      "{34, 66, 12, 45, 23} {32, 66, 43, 21, 54}\n"
     ]
    }
   ],
   "source": [
    "myset1 = {12,23,34,45,66}\n",
    "myset2 = {66,54,43,32,21}\n",
    "print(myset1, myset2)"
   ]
  },
  {
   "cell_type": "code",
   "execution_count": 211,
   "id": "24e7ba8c",
   "metadata": {},
   "outputs": [
    {
     "name": "stdout",
     "output_type": "stream",
     "text": [
      "False\n"
     ]
    }
   ],
   "source": [
    "print(myset1.isdisjoint(myset2))"
   ]
  },
  {
   "cell_type": "markdown",
   "id": "63c61099",
   "metadata": {},
   "source": [
    "#### issubset()"
   ]
  },
  {
   "cell_type": "code",
   "execution_count": 212,
   "id": "1a2998f6",
   "metadata": {},
   "outputs": [
    {
     "name": "stdout",
     "output_type": "stream",
     "text": [
      "{34, 12, 23} {34, 66, 12, 45, 23}\n"
     ]
    }
   ],
   "source": [
    "myset1 = {12,23,34}\n",
    "myset2 = {12,23,34,45,66}\n",
    "print(myset1, myset2)"
   ]
  },
  {
   "cell_type": "code",
   "execution_count": 213,
   "id": "d70723b1",
   "metadata": {},
   "outputs": [
    {
     "name": "stdout",
     "output_type": "stream",
     "text": [
      "True\n"
     ]
    }
   ],
   "source": [
    "print(myset1.issubset(myset2))"
   ]
  },
  {
   "cell_type": "code",
   "execution_count": 214,
   "id": "5829f656",
   "metadata": {},
   "outputs": [
    {
     "name": "stdout",
     "output_type": "stream",
     "text": [
      "False\n"
     ]
    }
   ],
   "source": [
    "print(myset2.issubset(myset1))"
   ]
  },
  {
   "cell_type": "markdown",
   "id": "86afc119",
   "metadata": {},
   "source": [
    "#### issuperset() "
   ]
  },
  {
   "cell_type": "code",
   "execution_count": 215,
   "id": "7df4ae0f",
   "metadata": {},
   "outputs": [
    {
     "name": "stdout",
     "output_type": "stream",
     "text": [
      "False\n"
     ]
    }
   ],
   "source": [
    "print(myset1.issuperset(myset2))"
   ]
  },
  {
   "cell_type": "code",
   "execution_count": 216,
   "id": "f38672d8",
   "metadata": {},
   "outputs": [
    {
     "name": "stdout",
     "output_type": "stream",
     "text": [
      "True\n"
     ]
    }
   ],
   "source": [
    "print(myset2.issuperset(myset1))"
   ]
  },
  {
   "cell_type": "markdown",
   "id": "0d1e1ad9",
   "metadata": {},
   "source": [
    "### Dictionary"
   ]
  },
  {
   "cell_type": "code",
   "execution_count": 3,
   "id": "4b043ee8",
   "metadata": {},
   "outputs": [],
   "source": [
    "# key -> value\n",
    "# item\n",
    "# {key:value,}"
   ]
  },
  {
   "cell_type": "code",
   "execution_count": null,
   "id": "8ca408d3",
   "metadata": {},
   "outputs": [],
   "source": [
    "Empty List --> []\n",
    "Empty Tuple --> ()\n",
    "Empty Set --> set()\n",
    "Empty Dict --> {}"
   ]
  },
  {
   "cell_type": "code",
   "execution_count": 218,
   "id": "3939d8a9",
   "metadata": {},
   "outputs": [
    {
     "name": "stdout",
     "output_type": "stream",
     "text": [
      "<class 'dict'>\n"
     ]
    }
   ],
   "source": [
    "emp_info = {}\n",
    "print(type(emp_info))"
   ]
  },
  {
   "cell_type": "code",
   "execution_count": 219,
   "id": "7fd3e1f9",
   "metadata": {},
   "outputs": [
    {
     "name": "stdout",
     "output_type": "stream",
     "text": [
      "{'Name': 'Samuel', 'ID': 123, 'Salary': 13000.0}\n"
     ]
    }
   ],
   "source": [
    "emp_info = {'Name':'Samuel','ID':123,'Salary':13000.00}\n",
    "print(emp_info)"
   ]
  },
  {
   "cell_type": "code",
   "execution_count": 220,
   "id": "632a6a6d",
   "metadata": {},
   "outputs": [
    {
     "name": "stdout",
     "output_type": "stream",
     "text": [
      "{123: 'apple', 124: 'banana', 125: 'Orange'}\n"
     ]
    }
   ],
   "source": [
    "mydict = {123:'apple',124:'banana',125:'Orange'}\n",
    "print(mydict)"
   ]
  },
  {
   "cell_type": "code",
   "execution_count": 221,
   "id": "5f0747aa",
   "metadata": {},
   "outputs": [
    {
     "name": "stdout",
     "output_type": "stream",
     "text": [
      "{123: 'apple', 'banana': 124}\n"
     ]
    }
   ],
   "source": [
    "newdict = {123:'apple','banana':124}\n",
    "print(newdict)"
   ]
  },
  {
   "cell_type": "markdown",
   "id": "3499ba08",
   "metadata": {},
   "source": [
    "### Indexing "
   ]
  },
  {
   "cell_type": "code",
   "execution_count": null,
   "id": "5a8f8e27",
   "metadata": {},
   "outputs": [],
   "source": [
    "# [1] [-1] not possible"
   ]
  },
  {
   "cell_type": "code",
   "execution_count": 222,
   "id": "11fa96af",
   "metadata": {},
   "outputs": [
    {
     "ename": "KeyError",
     "evalue": "0",
     "output_type": "error",
     "traceback": [
      "\u001b[0;31m---------------------------------------------------------------------------\u001b[0m",
      "\u001b[0;31mKeyError\u001b[0m                                  Traceback (most recent call last)",
      "\u001b[0;32m<ipython-input-222-ba66d4357874>\u001b[0m in \u001b[0;36m<module>\u001b[0;34m\u001b[0m\n\u001b[0;32m----> 1\u001b[0;31m \u001b[0mprint\u001b[0m\u001b[0;34m(\u001b[0m\u001b[0mmydict\u001b[0m\u001b[0;34m[\u001b[0m\u001b[0;36m0\u001b[0m\u001b[0;34m]\u001b[0m\u001b[0;34m)\u001b[0m\u001b[0;34m\u001b[0m\u001b[0;34m\u001b[0m\u001b[0m\n\u001b[0m",
      "\u001b[0;31mKeyError\u001b[0m: 0"
     ]
    }
   ],
   "source": [
    "print(mydict[0])"
   ]
  },
  {
   "cell_type": "code",
   "execution_count": 223,
   "id": "63debdac",
   "metadata": {},
   "outputs": [
    {
     "data": {
      "text/plain": [
       "{'Name': 'Samuel', 'ID': 123, 'Salary': 13000.0}"
      ]
     },
     "execution_count": 223,
     "metadata": {},
     "output_type": "execute_result"
    }
   ],
   "source": [
    "emp_info"
   ]
  },
  {
   "cell_type": "code",
   "execution_count": 224,
   "id": "b2c38cdb",
   "metadata": {},
   "outputs": [
    {
     "name": "stdout",
     "output_type": "stream",
     "text": [
      "13000.0\n"
     ]
    }
   ],
   "source": [
    "print(emp_info['Salary'])"
   ]
  },
  {
   "cell_type": "code",
   "execution_count": 225,
   "id": "93e4fdbc",
   "metadata": {},
   "outputs": [
    {
     "name": "stdout",
     "output_type": "stream",
     "text": [
      "Samuel\n"
     ]
    }
   ],
   "source": [
    "print(emp_info['Name'])"
   ]
  },
  {
   "cell_type": "code",
   "execution_count": null,
   "id": "7d8ceae2",
   "metadata": {},
   "outputs": [],
   "source": [
    "emp_info['Name'] = 'Edison'\n",
    "emp_info"
   ]
  },
  {
   "cell_type": "code",
   "execution_count": 226,
   "id": "aa043b93",
   "metadata": {},
   "outputs": [
    {
     "ename": "KeyError",
     "evalue": "'Dept'",
     "output_type": "error",
     "traceback": [
      "\u001b[0;31m---------------------------------------------------------------------------\u001b[0m",
      "\u001b[0;31mKeyError\u001b[0m                                  Traceback (most recent call last)",
      "\u001b[0;32m<ipython-input-226-baefad6eb333>\u001b[0m in \u001b[0;36m<module>\u001b[0;34m\u001b[0m\n\u001b[0;32m----> 1\u001b[0;31m \u001b[0mprint\u001b[0m\u001b[0;34m(\u001b[0m\u001b[0memp_info\u001b[0m\u001b[0;34m[\u001b[0m\u001b[0;34m'Dept'\u001b[0m\u001b[0;34m]\u001b[0m\u001b[0;34m)\u001b[0m\u001b[0;34m\u001b[0m\u001b[0;34m\u001b[0m\u001b[0m\n\u001b[0m",
      "\u001b[0;31mKeyError\u001b[0m: 'Dept'"
     ]
    }
   ],
   "source": [
    "print(emp_info['Dept'])"
   ]
  },
  {
   "cell_type": "code",
   "execution_count": 227,
   "id": "8c5b41bf",
   "metadata": {},
   "outputs": [
    {
     "name": "stdout",
     "output_type": "stream",
     "text": [
      "{'Name': 'Samuel', 'ID': 123, 'Salary': 13000.0, 'Dept': 'L&D'}\n"
     ]
    }
   ],
   "source": [
    "emp_info['Dept'] = 'L&D'\n",
    "print(emp_info)"
   ]
  },
  {
   "cell_type": "code",
   "execution_count": 228,
   "id": "dcd46100",
   "metadata": {},
   "outputs": [
    {
     "name": "stdout",
     "output_type": "stream",
     "text": [
      "{123: 'apple', 124: 'banana'}\n"
     ]
    }
   ],
   "source": [
    "mydict = {123:'apple',124:'banana',125:'Orange'}\n",
    "del mydict[125]\n",
    "print(mydict)"
   ]
  },
  {
   "cell_type": "code",
   "execution_count": null,
   "id": "49fc5519",
   "metadata": {},
   "outputs": [],
   "source": [
    "del mydict"
   ]
  },
  {
   "cell_type": "code",
   "execution_count": null,
   "id": "ceb4bbbf",
   "metadata": {},
   "outputs": [],
   "source": [
    "mydict"
   ]
  },
  {
   "cell_type": "markdown",
   "id": "4f85f7e6",
   "metadata": {},
   "source": [
    "### Methods - Dict"
   ]
  },
  {
   "cell_type": "markdown",
   "id": "0ab00ee7",
   "metadata": {},
   "source": [
    "#### copy() "
   ]
  },
  {
   "cell_type": "code",
   "execution_count": 229,
   "id": "1fee4565",
   "metadata": {},
   "outputs": [
    {
     "name": "stdout",
     "output_type": "stream",
     "text": [
      "{'Name': 'Samuel', 'ID': 123, 'Salary': 13000.0, 'Dept': 'L&D'}\n"
     ]
    }
   ],
   "source": [
    "newemp = emp_info.copy() \n",
    "print(newemp)"
   ]
  },
  {
   "cell_type": "markdown",
   "id": "4daa327b",
   "metadata": {},
   "source": [
    "#### update()"
   ]
  },
  {
   "cell_type": "code",
   "execution_count": 230,
   "id": "d7d98e9d",
   "metadata": {},
   "outputs": [],
   "source": [
    "dept_info = {'DeptID':111, 'Dept':'Training', 'Manager':'Sugan'}"
   ]
  },
  {
   "cell_type": "code",
   "execution_count": 231,
   "id": "d9c83996",
   "metadata": {},
   "outputs": [
    {
     "name": "stdout",
     "output_type": "stream",
     "text": [
      "{'Name': 'Samuel', 'ID': 123, 'Salary': 13000.0, 'Dept': 'L&D'}\n",
      "{'DeptID': 111, 'Dept': 'Training', 'Manager': 'Sugan'}\n"
     ]
    }
   ],
   "source": [
    "print(emp_info)\n",
    "print(dept_info)"
   ]
  },
  {
   "cell_type": "code",
   "execution_count": 233,
   "id": "93c886fa",
   "metadata": {},
   "outputs": [],
   "source": [
    "emp_info.update(dept_info)"
   ]
  },
  {
   "cell_type": "code",
   "execution_count": 234,
   "id": "fd1d6c47",
   "metadata": {},
   "outputs": [
    {
     "name": "stdout",
     "output_type": "stream",
     "text": [
      "{'Name': 'Samuel', 'ID': 123, 'Salary': 13000.0, 'Dept': 'Training', 'DeptID': 111, 'Manager': 'Sugan'}\n"
     ]
    }
   ],
   "source": [
    "print(emp_info)"
   ]
  },
  {
   "cell_type": "markdown",
   "id": "e72696aa",
   "metadata": {},
   "source": [
    "#### get()"
   ]
  },
  {
   "cell_type": "code",
   "execution_count": 235,
   "id": "4522fca9",
   "metadata": {},
   "outputs": [
    {
     "name": "stdout",
     "output_type": "stream",
     "text": [
      "{'Name': 'Samuel', 'ID': 123, 'Salary': 13000.0, 'Dept': 'Training', 'DeptID': 111, 'Manager': 'Sugan'}\n"
     ]
    }
   ],
   "source": [
    "print(emp_info)"
   ]
  },
  {
   "cell_type": "code",
   "execution_count": 236,
   "id": "ed11d6ca",
   "metadata": {},
   "outputs": [
    {
     "name": "stdout",
     "output_type": "stream",
     "text": [
      "Samuel\n"
     ]
    }
   ],
   "source": [
    "print(emp_info['Name'])"
   ]
  },
  {
   "cell_type": "code",
   "execution_count": 237,
   "id": "f63c11a7",
   "metadata": {},
   "outputs": [
    {
     "ename": "KeyError",
     "evalue": "'Location'",
     "output_type": "error",
     "traceback": [
      "\u001b[0;31m---------------------------------------------------------------------------\u001b[0m",
      "\u001b[0;31mKeyError\u001b[0m                                  Traceback (most recent call last)",
      "\u001b[0;32m<ipython-input-237-32efce40e06d>\u001b[0m in \u001b[0;36m<module>\u001b[0;34m\u001b[0m\n\u001b[0;32m----> 1\u001b[0;31m \u001b[0mprint\u001b[0m\u001b[0;34m(\u001b[0m\u001b[0memp_info\u001b[0m\u001b[0;34m[\u001b[0m\u001b[0;34m'Location'\u001b[0m\u001b[0;34m]\u001b[0m\u001b[0;34m)\u001b[0m\u001b[0;34m\u001b[0m\u001b[0;34m\u001b[0m\u001b[0m\n\u001b[0m",
      "\u001b[0;31mKeyError\u001b[0m: 'Location'"
     ]
    }
   ],
   "source": [
    "print(emp_info['Location'])"
   ]
  },
  {
   "cell_type": "code",
   "execution_count": 238,
   "id": "c597cecc",
   "metadata": {},
   "outputs": [
    {
     "name": "stdout",
     "output_type": "stream",
     "text": [
      "Samuel\n"
     ]
    }
   ],
   "source": [
    "print(emp_info.get('Name'))"
   ]
  },
  {
   "cell_type": "code",
   "execution_count": 239,
   "id": "85f52760",
   "metadata": {},
   "outputs": [
    {
     "name": "stdout",
     "output_type": "stream",
     "text": [
      "None\n"
     ]
    }
   ],
   "source": [
    "print(emp_info.get('Location'))"
   ]
  },
  {
   "cell_type": "code",
   "execution_count": 241,
   "id": "c8e4a27b",
   "metadata": {},
   "outputs": [
    {
     "name": "stdout",
     "output_type": "stream",
     "text": [
      "Key Unavailable\n"
     ]
    }
   ],
   "source": [
    "print(emp_info.get('Location','Key Unavailable'))"
   ]
  },
  {
   "cell_type": "markdown",
   "id": "196f6224",
   "metadata": {},
   "source": [
    "#### clear()"
   ]
  },
  {
   "cell_type": "code",
   "execution_count": null,
   "id": "32ff0b3c",
   "metadata": {},
   "outputs": [],
   "source": [
    "print(newemp)\n",
    "newemp.clear()\n",
    "print(newemp)"
   ]
  },
  {
   "cell_type": "markdown",
   "id": "e8043c0c",
   "metadata": {},
   "source": [
    "#### keys(), values(), items()"
   ]
  },
  {
   "cell_type": "code",
   "execution_count": 242,
   "id": "d3b4d0af",
   "metadata": {},
   "outputs": [
    {
     "name": "stdout",
     "output_type": "stream",
     "text": [
      "dict_keys(['Name', 'ID', 'Salary', 'Dept', 'DeptID', 'Manager'])\n"
     ]
    }
   ],
   "source": [
    "print(emp_info.keys())"
   ]
  },
  {
   "cell_type": "code",
   "execution_count": 243,
   "id": "512513a5",
   "metadata": {},
   "outputs": [
    {
     "name": "stdout",
     "output_type": "stream",
     "text": [
      "dict_values(['Samuel', 123, 13000.0, 'Training', 111, 'Sugan'])\n"
     ]
    }
   ],
   "source": [
    "print(emp_info.values())"
   ]
  },
  {
   "cell_type": "code",
   "execution_count": 244,
   "id": "a30b6323",
   "metadata": {},
   "outputs": [
    {
     "name": "stdout",
     "output_type": "stream",
     "text": [
      "dict_items([('Name', 'Samuel'), ('ID', 123), ('Salary', 13000.0), ('Dept', 'Training'), ('DeptID', 111), ('Manager', 'Sugan')])\n"
     ]
    }
   ],
   "source": [
    "print(emp_info.items())"
   ]
  },
  {
   "cell_type": "markdown",
   "id": "f793b049",
   "metadata": {},
   "source": [
    "#### pop()"
   ]
  },
  {
   "cell_type": "code",
   "execution_count": 245,
   "id": "806e44d5",
   "metadata": {},
   "outputs": [
    {
     "ename": "KeyError",
     "evalue": "'deptID'",
     "output_type": "error",
     "traceback": [
      "\u001b[0;31m---------------------------------------------------------------------------\u001b[0m",
      "\u001b[0;31mKeyError\u001b[0m                                  Traceback (most recent call last)",
      "\u001b[0;32m<ipython-input-245-119d54334733>\u001b[0m in \u001b[0;36m<module>\u001b[0;34m\u001b[0m\n\u001b[0;32m----> 1\u001b[0;31m \u001b[0mprint\u001b[0m\u001b[0;34m(\u001b[0m\u001b[0memp_info\u001b[0m\u001b[0;34m.\u001b[0m\u001b[0mpop\u001b[0m\u001b[0;34m(\u001b[0m\u001b[0;34m'deptID'\u001b[0m\u001b[0;34m)\u001b[0m\u001b[0;34m)\u001b[0m\u001b[0;34m\u001b[0m\u001b[0;34m\u001b[0m\u001b[0m\n\u001b[0m",
      "\u001b[0;31mKeyError\u001b[0m: 'deptID'"
     ]
    }
   ],
   "source": [
    "print(emp_info.pop('deptID'))"
   ]
  },
  {
   "cell_type": "code",
   "execution_count": 246,
   "id": "e21193a1",
   "metadata": {},
   "outputs": [
    {
     "name": "stdout",
     "output_type": "stream",
     "text": [
      "You have mentioned a wrong Key\n"
     ]
    }
   ],
   "source": [
    "print(emp_info.pop('deptID','You have mentioned a wrong Key'))"
   ]
  },
  {
   "cell_type": "code",
   "execution_count": null,
   "id": "925235bd",
   "metadata": {},
   "outputs": [],
   "source": [
    "print(emp_info.pop('DeptID','You have mentioned a wrong Key'))"
   ]
  },
  {
   "cell_type": "markdown",
   "id": "94e44309",
   "metadata": {},
   "source": [
    "#### popitem()"
   ]
  },
  {
   "cell_type": "code",
   "execution_count": 247,
   "id": "a3bcff07",
   "metadata": {},
   "outputs": [
    {
     "name": "stdout",
     "output_type": "stream",
     "text": [
      "{'Name': 'Samuel', 'ID': 123, 'Salary': 13000.0, 'Dept': 'Training', 'DeptID': 111, 'Manager': 'Sugan'}\n"
     ]
    }
   ],
   "source": [
    "print(emp_info)"
   ]
  },
  {
   "cell_type": "code",
   "execution_count": 248,
   "id": "f193733c",
   "metadata": {},
   "outputs": [
    {
     "name": "stdout",
     "output_type": "stream",
     "text": [
      "('Manager', 'Sugan')\n"
     ]
    }
   ],
   "source": [
    "print(emp_info.popitem())"
   ]
  },
  {
   "cell_type": "markdown",
   "id": "24d107ef",
   "metadata": {},
   "source": [
    "#### fromkeys()"
   ]
  },
  {
   "cell_type": "code",
   "execution_count": 249,
   "id": "c493efc5",
   "metadata": {},
   "outputs": [
    {
     "name": "stdout",
     "output_type": "stream",
     "text": [
      "{'Name': None, 'Age': None, 'Gender': None, 'Location': None}\n"
     ]
    }
   ],
   "source": [
    "keys = ('Name','Age','Gender','Location')\n",
    "info = {}\n",
    "info = info.fromkeys(keys,None)\n",
    "print(info)"
   ]
  },
  {
   "cell_type": "code",
   "execution_count": null,
   "id": "8aa3b893",
   "metadata": {},
   "outputs": [],
   "source": []
  },
  {
   "cell_type": "markdown",
   "id": "b549cdee",
   "metadata": {},
   "source": [
    "### Split & Join"
   ]
  },
  {
   "cell_type": "code",
   "execution_count": 250,
   "id": "8462a54b",
   "metadata": {},
   "outputs": [
    {
     "name": "stdout",
     "output_type": "stream",
     "text": [
      "Apple Orange Banana Grapes\n"
     ]
    }
   ],
   "source": [
    "info = 'Apple Orange Banana Grapes'\n",
    "print(info)"
   ]
  },
  {
   "cell_type": "code",
   "execution_count": 251,
   "id": "1649774a",
   "metadata": {},
   "outputs": [
    {
     "name": "stdout",
     "output_type": "stream",
     "text": [
      "['Apple', 'Orange', 'Banana', 'Grapes']\n"
     ]
    }
   ],
   "source": [
    "fruitList = info.split()\n",
    "print(fruitList)"
   ]
  },
  {
   "cell_type": "code",
   "execution_count": 252,
   "id": "4248fd83",
   "metadata": {},
   "outputs": [
    {
     "name": "stdout",
     "output_type": "stream",
     "text": [
      "Apple,Orange,Banana,Grapes\n"
     ]
    }
   ],
   "source": [
    "info = 'Apple,Orange,Banana,Grapes'\n",
    "print(info)"
   ]
  },
  {
   "cell_type": "code",
   "execution_count": 253,
   "id": "96a5748c",
   "metadata": {},
   "outputs": [
    {
     "name": "stdout",
     "output_type": "stream",
     "text": [
      "['Apple', 'Orange', 'Banana', 'Grapes']\n"
     ]
    }
   ],
   "source": [
    "fruitList = info.split(',')\n",
    "print(fruitList)"
   ]
  },
  {
   "cell_type": "code",
   "execution_count": 254,
   "id": "2713b0cc",
   "metadata": {},
   "outputs": [
    {
     "name": "stdout",
     "output_type": "stream",
     "text": [
      "App,le,Oran,ge,Banana,Gra,pes\n"
     ]
    }
   ],
   "source": [
    "info = 'App,le,Oran,ge,Banana,Gra,pes'\n",
    "print(info)"
   ]
  },
  {
   "cell_type": "code",
   "execution_count": 255,
   "id": "6d0801ed",
   "metadata": {},
   "outputs": [
    {
     "name": "stdout",
     "output_type": "stream",
     "text": [
      "['App', 'le', 'Oran', 'ge', 'Banana', 'Gra', 'pes']\n"
     ]
    }
   ],
   "source": [
    "fruitList = info.split(',')\n",
    "print(fruitList)"
   ]
  },
  {
   "cell_type": "code",
   "execution_count": null,
   "id": "567046cc",
   "metadata": {},
   "outputs": [],
   "source": [
    "info = 'Apple#Orange#Banana#Grapes'\n",
    "print(info)\n",
    "fruitList = info.split('#')\n",
    "print(fruitList)"
   ]
  },
  {
   "cell_type": "code",
   "execution_count": 256,
   "id": "c5d2b8e1",
   "metadata": {},
   "outputs": [
    {
     "name": "stdout",
     "output_type": "stream",
     "text": [
      "Apple#Orange@Banana#Grapes\n",
      "['Apple', 'Orange@Banana', 'Grapes']\n"
     ]
    }
   ],
   "source": [
    "info = 'Apple#Orange@Banana#Grapes'\n",
    "print(info)\n",
    "fruitList = info.split('#')\n",
    "print(fruitList)"
   ]
  },
  {
   "cell_type": "code",
   "execution_count": 257,
   "id": "f9405246",
   "metadata": {},
   "outputs": [
    {
     "name": "stdout",
     "output_type": "stream",
     "text": [
      "Apple#Orange#Banana#Grapes\n",
      "['Apple', 'Orange', 'Banana#Grapes']\n"
     ]
    }
   ],
   "source": [
    "info = 'Apple#Orange#Banana#Grapes'\n",
    "print(info)\n",
    "fruitList = info.split('#',2)\n",
    "print(fruitList)"
   ]
  },
  {
   "cell_type": "code",
   "execution_count": null,
   "id": "2e333f4a",
   "metadata": {},
   "outputs": [],
   "source": [
    "fruitsList = input()\n",
    "fruitsList"
   ]
  },
  {
   "cell_type": "code",
   "execution_count": 258,
   "id": "bb02639e",
   "metadata": {},
   "outputs": [
    {
     "name": "stdout",
     "output_type": "stream",
     "text": [
      "Apple Orange Banana Grapes\n"
     ]
    },
    {
     "data": {
      "text/plain": [
       "['Apple', 'Orange', 'Banana', 'Grapes']"
      ]
     },
     "execution_count": 258,
     "metadata": {},
     "output_type": "execute_result"
    }
   ],
   "source": [
    "fruitsList = input().split()\n",
    "fruitsList"
   ]
  },
  {
   "cell_type": "code",
   "execution_count": 259,
   "id": "fc07a7af",
   "metadata": {},
   "outputs": [
    {
     "name": "stdout",
     "output_type": "stream",
     "text": [
      "Apple Orange Banana Grapes\n",
      "Apple\n",
      "Orange\n",
      "Banana\n",
      "Grapes\n"
     ]
    }
   ],
   "source": [
    "fruit1,fruit2,fruit3,fruit4 = input().split() \n",
    "print(fruit1)\n",
    "print(fruit2)\n",
    "print(fruit3)\n",
    "print(fruit4)"
   ]
  },
  {
   "cell_type": "code",
   "execution_count": 260,
   "id": "00244c92",
   "metadata": {},
   "outputs": [
    {
     "name": "stdout",
     "output_type": "stream",
     "text": [
      "['This', 'is', 'my', 'Python', 'class']\n"
     ]
    }
   ],
   "source": [
    "mylst = ['This','is', 'my','Python','class']\n",
    "print(mylst)"
   ]
  },
  {
   "cell_type": "code",
   "execution_count": 261,
   "id": "e2ccdc43",
   "metadata": {},
   "outputs": [
    {
     "name": "stdout",
     "output_type": "stream",
     "text": [
      "ThisismyPythonclass\n"
     ]
    }
   ],
   "source": [
    "info = ''.join(mylst)\n",
    "print(info)"
   ]
  },
  {
   "cell_type": "code",
   "execution_count": 262,
   "id": "d4b0e21f",
   "metadata": {},
   "outputs": [
    {
     "name": "stdout",
     "output_type": "stream",
     "text": [
      "This is my Python class\n"
     ]
    }
   ],
   "source": [
    "info = ' '.join(mylst)\n",
    "print(info)"
   ]
  },
  {
   "cell_type": "code",
   "execution_count": 263,
   "id": "9e5cda87",
   "metadata": {},
   "outputs": [
    {
     "name": "stdout",
     "output_type": "stream",
     "text": [
      "This_is_my_Python_class\n"
     ]
    }
   ],
   "source": [
    "info = '_'.join(mylst)\n",
    "print(info)"
   ]
  },
  {
   "cell_type": "code",
   "execution_count": null,
   "id": "4aa58579",
   "metadata": {},
   "outputs": [],
   "source": []
  },
  {
   "cell_type": "markdown",
   "id": "8cff6ac7",
   "metadata": {},
   "source": [
    "### Control Statements"
   ]
  },
  {
   "cell_type": "markdown",
   "id": "516edd68",
   "metadata": {},
   "source": [
    "if\n",
    "else\n",
    "elif    --> else if"
   ]
  },
  {
   "cell_type": "code",
   "execution_count": null,
   "id": "0bee9ae2",
   "metadata": {},
   "outputs": [],
   "source": [
    "Syntax for Python:\n",
    "------------------\n",
    "\n",
    "if condition:\n",
    "    statement1\n",
    "    statement2\n",
    "\n",
    "statement3\n",
    "statement4\n",
    "statement5\n",
    "\n",
    "\n",
    "Syntax for C:\n",
    "-------------    \n",
    "if (condition) {\n",
    "    statement1;\n",
    "    statement2;\n",
    "}\n",
    "statement3;\n",
    "statement4;\n",
    "statement5;\n"
   ]
  },
  {
   "cell_type": "code",
   "execution_count": null,
   "id": "c5b06771",
   "metadata": {},
   "outputs": [],
   "source": [
    "Syntax for Python:\n",
    "------------------\n",
    "\n",
    "if condition:\n",
    "    statement1\n",
    "    statement2\n",
    "else:\n",
    "    statement3\n",
    "    statement4\n",
    "statement5\n",
    "\n",
    "\n",
    "Syntax for C:\n",
    "-------------    \n",
    "if (condition) {\n",
    "    statement1;\n",
    "    statement2;\n",
    "} \n",
    "else {\n",
    "    statement3;\n",
    "    statement4;\n",
    "}\n",
    "statement5;\n"
   ]
  },
  {
   "cell_type": "code",
   "execution_count": null,
   "id": "c0918b79",
   "metadata": {},
   "outputs": [],
   "source": [
    "Syntax for Python:\n",
    "------------------\n",
    "\n",
    "if condition:\n",
    "    statement1\n",
    "    statement2\n",
    "elif condition:\n",
    "    statement3\n",
    "    statement4\n",
    "else:\n",
    "    statement5\n",
    "\n",
    "statement6\n",
    "statement7\n",
    "\n",
    "\n"
   ]
  },
  {
   "cell_type": "code",
   "execution_count": null,
   "id": "a915ca23",
   "metadata": {},
   "outputs": [],
   "source": [
    "# Do nothing statement\n",
    "pass"
   ]
  },
  {
   "cell_type": "code",
   "execution_count": 265,
   "id": "fc554d04",
   "metadata": {},
   "outputs": [],
   "source": [
    "if 10 < 20:\n",
    "    pass\n",
    "else:\n",
    "    print(\"Hello\")"
   ]
  },
  {
   "cell_type": "code",
   "execution_count": null,
   "id": "d46f9800",
   "metadata": {},
   "outputs": [],
   "source": [
    "C Example\n",
    "---------\n",
    "if (10 < 20){\n",
    "    ;   // --> pass\n",
    "} else {\n",
    "    printf(\"Hello\");\n",
    "}"
   ]
  },
  {
   "cell_type": "code",
   "execution_count": 269,
   "id": "bbcfb05f",
   "metadata": {},
   "outputs": [
    {
     "name": "stdout",
     "output_type": "stream",
     "text": [
      "enter the name:Samuel\n",
      "Enter the age:91\n",
      "Samuel, you are eligible for voting but better stay at home\n"
     ]
    }
   ],
   "source": [
    "name = input(\"enter the name:\")\n",
    "age = int(input(\"Enter the age:\"))\n",
    "\n",
    "if age < 18 and age >= 1:\n",
    "    print(f'{name}, you are not eligible for voting...')\n",
    "elif age >= 18 and age <= 90:\n",
    "    print(f'{name}, you are elibible for voting...')\n",
    "elif age > 90:\n",
    "    print(f'{name}, you are eligible for voting but better stay at home')\n",
    "else:\n",
    "    print('Invalid Input')"
   ]
  },
  {
   "cell_type": "markdown",
   "id": "cc95f3b8",
   "metadata": {},
   "source": [
    "### Loop"
   ]
  },
  {
   "cell_type": "code",
   "execution_count": null,
   "id": "ce1f30c8",
   "metadata": {},
   "outputs": [],
   "source": [
    "1. for\n",
    "2. while"
   ]
  },
  {
   "cell_type": "code",
   "execution_count": null,
   "id": "7355098f",
   "metadata": {},
   "outputs": [],
   "source": [
    "syntax:\n",
    "-------\n",
    "\n",
    "for val in range(start,stop_before,step):\n",
    "    statements\n",
    "else:\n",
    "    statements\n",
    "    \n",
    "for val in iterable_object:\n",
    "    statements\n",
    "else:\n",
    "    statements"
   ]
  },
  {
   "cell_type": "code",
   "execution_count": null,
   "id": "501ecef4",
   "metadata": {},
   "outputs": [],
   "source": [
    "while condition:\n",
    "    statements\n",
    "else:\n",
    "    statements    "
   ]
  },
  {
   "cell_type": "code",
   "execution_count": 281,
   "id": "abcfff47",
   "metadata": {},
   "outputs": [
    {
     "name": "stdout",
     "output_type": "stream",
     "text": [
      "1 2 3 4 5 6 7 8 9 10 \n",
      "Loop executed fully....\n",
      "Loop got break at 10th iteration\n"
     ]
    }
   ],
   "source": [
    "for itr in range(1,11,1):\n",
    "    print(itr, end=' ')\n",
    "else:\n",
    "    print(\"\\nLoop executed fully....\")\n",
    "print(f'Loop got break at {itr}th iteration')"
   ]
  },
  {
   "cell_type": "code",
   "execution_count": 280,
   "id": "a861602a",
   "metadata": {
    "scrolled": true
   },
   "outputs": [
    {
     "name": "stdout",
     "output_type": "stream",
     "text": [
      "1 2 3 4 5 Loop got break at 6th iteration\n"
     ]
    }
   ],
   "source": [
    "for itr in range(1,11,1):\n",
    "    if itr == 6:\n",
    "        break\n",
    "    print(itr, end=' ')\n",
    "else:\n",
    "    print(\"\\nLoop executed fully....\")\n",
    "print(f'Loop got break at {itr}th iteration')"
   ]
  },
  {
   "cell_type": "code",
   "execution_count": 283,
   "id": "4039c350",
   "metadata": {},
   "outputs": [
    {
     "name": "stdout",
     "output_type": "stream",
     "text": [
      "S\n",
      "a\n",
      "m\n",
      "u\n",
      "e\n",
      "l\n",
      " \n",
      "E\n",
      "d\n",
      "i\n",
      "s\n",
      "o\n",
      "n\n"
     ]
    }
   ],
   "source": [
    "mystr = \"Samuel Edison\"\n",
    "for val in mystr:\n",
    "    print(val)"
   ]
  },
  {
   "cell_type": "code",
   "execution_count": 284,
   "id": "a4d3017c",
   "metadata": {},
   "outputs": [
    {
     "name": "stdout",
     "output_type": "stream",
     "text": [
      "1\n",
      "23\n",
      "45\n",
      "234\n",
      "8\n",
      "76\n"
     ]
    }
   ],
   "source": [
    "mylst =  [1,23,45,234,8,76]\n",
    "for val in mylst:\n",
    "    print(val)"
   ]
  },
  {
   "cell_type": "code",
   "execution_count": 285,
   "id": "f307bcee",
   "metadata": {},
   "outputs": [
    {
     "name": "stdout",
     "output_type": "stream",
     "text": [
      "1 2 3 4 5 Loop got break at 6th iteration\n"
     ]
    }
   ],
   "source": [
    "itr = 1\n",
    "while itr < 11:\n",
    "    if itr == 6:\n",
    "        break\n",
    "    print(itr, end=' ')\n",
    "    itr += 1\n",
    "else:\n",
    "    print(\"\\nLoop executed fully....\")\n",
    "print(f'Loop got break at {itr}th iteration')"
   ]
  },
  {
   "cell_type": "code",
   "execution_count": 286,
   "id": "bf3e5b39",
   "metadata": {},
   "outputs": [
    {
     "name": "stdout",
     "output_type": "stream",
     "text": [
      "12\n",
      "34\n",
      "56\n",
      "78\n",
      "234\n",
      "87\n",
      "12\n",
      "45\n",
      "57\n",
      "28\n",
      "[12, 34, 56, 78, 234, 87, 12, 45, 57, 28]\n"
     ]
    }
   ],
   "source": [
    "mylst = []\n",
    "for itr in range(10):  # start = 0 , step = 1 \n",
    "    mylst.append(int(input()))\n",
    "print(mylst)"
   ]
  },
  {
   "cell_type": "code",
   "execution_count": 288,
   "id": "eea26996",
   "metadata": {},
   "outputs": [
    {
     "name": "stdout",
     "output_type": "stream",
     "text": [
      "1\n",
      "2\n",
      "3\n",
      "4\n",
      "5\n",
      "(1, 2, 3, 4, 5)\n"
     ]
    }
   ],
   "source": [
    "mylst = []\n",
    "for itr in range(5):  # start = 0 , step = 1 \n",
    "    mylst.append(int(input()))\n",
    "mytup = tuple(mylst)\n",
    "print(mytup)"
   ]
  },
  {
   "cell_type": "code",
   "execution_count": 289,
   "id": "5e5dfb92",
   "metadata": {},
   "outputs": [
    {
     "name": "stdout",
     "output_type": "stream",
     "text": [
      "enter the key: Name\n",
      "Enter the value: Samuel\n",
      "enter the key: Age\n",
      "Enter the value: 18\n",
      "enter the key: Location\n",
      "Enter the value: India\n",
      "{'Name': 'Samuel', 'Age': '18', 'Location': 'India'}\n"
     ]
    }
   ],
   "source": [
    "mydict = {}\n",
    "for itr in range(3):\n",
    "    key= input('enter the key: ')\n",
    "    value = input('Enter the value: ')\n",
    "    mydict[key] = value\n",
    "print(mydict)"
   ]
  },
  {
   "cell_type": "code",
   "execution_count": 290,
   "id": "1e4b0320",
   "metadata": {},
   "outputs": [
    {
     "name": "stdout",
     "output_type": "stream",
     "text": [
      "Name\n",
      "Age\n",
      "Location\n"
     ]
    }
   ],
   "source": [
    "for val in mydict:\n",
    "    print(val)"
   ]
  },
  {
   "cell_type": "code",
   "execution_count": 292,
   "id": "d4056e3e",
   "metadata": {},
   "outputs": [
    {
     "name": "stdout",
     "output_type": "stream",
     "text": [
      "Name ==> Samuel\n",
      "Age ==> 18\n",
      "Location ==> India\n"
     ]
    }
   ],
   "source": [
    "for val in mydict:\n",
    "    print(val, \"==>\", mydict[val])"
   ]
  },
  {
   "cell_type": "code",
   "execution_count": 293,
   "id": "3e150d1a",
   "metadata": {},
   "outputs": [
    {
     "name": "stdout",
     "output_type": "stream",
     "text": [
      "Name ==> Samuel\n",
      "Age ==> 18\n",
      "Location ==> India\n"
     ]
    }
   ],
   "source": [
    "for key,val in mydict.items():\n",
    "    print(key,'==>',val)"
   ]
  },
  {
   "cell_type": "markdown",
   "id": "8b6ba428",
   "metadata": {},
   "source": [
    "### zip()"
   ]
  },
  {
   "cell_type": "code",
   "execution_count": 294,
   "id": "203ff790",
   "metadata": {},
   "outputs": [
    {
     "ename": "ValueError",
     "evalue": "too many values to unpack (expected 2)",
     "output_type": "error",
     "traceback": [
      "\u001b[0;31m---------------------------------------------------------------------------\u001b[0m",
      "\u001b[0;31mValueError\u001b[0m                                Traceback (most recent call last)",
      "\u001b[0;32m<ipython-input-294-b1432984826f>\u001b[0m in \u001b[0;36m<module>\u001b[0;34m\u001b[0m\n\u001b[1;32m      1\u001b[0m \u001b[0mmylst1\u001b[0m \u001b[0;34m=\u001b[0m \u001b[0;34m[\u001b[0m\u001b[0;36m10\u001b[0m\u001b[0;34m,\u001b[0m\u001b[0;36m20\u001b[0m\u001b[0;34m,\u001b[0m\u001b[0;36m30\u001b[0m\u001b[0;34m,\u001b[0m\u001b[0;36m40\u001b[0m\u001b[0;34m]\u001b[0m\u001b[0;34m\u001b[0m\u001b[0;34m\u001b[0m\u001b[0m\n\u001b[1;32m      2\u001b[0m \u001b[0mmylst2\u001b[0m \u001b[0;34m=\u001b[0m \u001b[0;34m[\u001b[0m\u001b[0;36m11\u001b[0m\u001b[0;34m,\u001b[0m\u001b[0;36m22\u001b[0m\u001b[0;34m,\u001b[0m\u001b[0;36m33\u001b[0m\u001b[0;34m,\u001b[0m\u001b[0;36m44\u001b[0m\u001b[0;34m]\u001b[0m\u001b[0;34m\u001b[0m\u001b[0;34m\u001b[0m\u001b[0m\n\u001b[0;32m----> 3\u001b[0;31m \u001b[0;32mfor\u001b[0m \u001b[0mval1\u001b[0m\u001b[0;34m,\u001b[0m\u001b[0mval2\u001b[0m \u001b[0;32min\u001b[0m \u001b[0mmylst1\u001b[0m\u001b[0;34m,\u001b[0m\u001b[0mmylst2\u001b[0m\u001b[0;34m:\u001b[0m\u001b[0;34m\u001b[0m\u001b[0;34m\u001b[0m\u001b[0m\n\u001b[0m\u001b[1;32m      4\u001b[0m     \u001b[0mprint\u001b[0m\u001b[0;34m(\u001b[0m\u001b[0mval1\u001b[0m\u001b[0;34m+\u001b[0m\u001b[0mval2\u001b[0m\u001b[0;34m)\u001b[0m\u001b[0;34m\u001b[0m\u001b[0;34m\u001b[0m\u001b[0m\n",
      "\u001b[0;31mValueError\u001b[0m: too many values to unpack (expected 2)"
     ]
    }
   ],
   "source": [
    "mylst1 = [10,20,30,40]\n",
    "mylst2 = [11,22,33,44]\n",
    "for val1,val2 in mylst1,mylst2:\n",
    "    print(val1+val2)"
   ]
  },
  {
   "cell_type": "code",
   "execution_count": 297,
   "id": "36870bbb",
   "metadata": {},
   "outputs": [
    {
     "name": "stdout",
     "output_type": "stream",
     "text": [
      "[(10, 11), (20, 22), (30, 33), (40, 44)]\n"
     ]
    }
   ],
   "source": [
    "mylst1 = [10,20,30,40,50]\n",
    "mylst2 = [11,22,33,44]\n",
    "print(list(zip(mylst1,mylst2)))"
   ]
  },
  {
   "cell_type": "code",
   "execution_count": 298,
   "id": "5affa3d5",
   "metadata": {},
   "outputs": [
    {
     "name": "stdout",
     "output_type": "stream",
     "text": [
      "21\n",
      "42\n",
      "63\n",
      "84\n"
     ]
    }
   ],
   "source": [
    "mylst1 = [10,20,30,40]\n",
    "mylst2 = [11,22,33,44]\n",
    "for val1,val2 in zip(mylst1,mylst2): # for val1,val2 in <(10,11), (20,22),(30,33),(40,44)>\n",
    "    print(val1+val2)"
   ]
  },
  {
   "cell_type": "code",
   "execution_count": 299,
   "id": "d146113b",
   "metadata": {},
   "outputs": [
    {
     "name": "stdout",
     "output_type": "stream",
     "text": [
      "21\n",
      "42\n",
      "63\n",
      "84\n"
     ]
    }
   ],
   "source": [
    "for val1,val2 in [(10, 11), (20, 22), (30, 33), (40, 44)]:\n",
    "    print(val1+val2)"
   ]
  },
  {
   "cell_type": "code",
   "execution_count": 300,
   "id": "065c4bd4",
   "metadata": {},
   "outputs": [
    {
     "name": "stdout",
     "output_type": "stream",
     "text": [
      "{'Name': 'Samuel', 'Age': 18, 'Location': 'India'}\n"
     ]
    }
   ],
   "source": [
    "keys = ('Name','Age','Location')\n",
    "values = ['Samuel',18,'India']\n",
    "mydict = dict(zip(keys,values))\n",
    "print(mydict)"
   ]
  },
  {
   "cell_type": "markdown",
   "id": "b64aadde",
   "metadata": {},
   "source": [
    "## Comprehension"
   ]
  },
  {
   "cell_type": "code",
   "execution_count": null,
   "id": "ba9ed0f0",
   "metadata": {},
   "outputs": [],
   "source": []
  },
  {
   "cell_type": "code",
   "execution_count": null,
   "id": "9ca7a952",
   "metadata": {},
   "outputs": [],
   "source": [
    "1. List Comprehension\n",
    "2. Set Comprehension\n",
    "3. Dictionary Comprehension"
   ]
  },
  {
   "cell_type": "markdown",
   "id": "ab94f857",
   "metadata": {},
   "source": [
    "### List Comprehesion"
   ]
  },
  {
   "cell_type": "code",
   "execution_count": 302,
   "id": "ba728dfe",
   "metadata": {},
   "outputs": [
    {
     "name": "stdout",
     "output_type": "stream",
     "text": [
      "[121, 484, 1089, 1936]\n"
     ]
    }
   ],
   "source": [
    "mylst = [11,22,33,44]\n",
    "sqrlst = []\n",
    "for val in mylst:\n",
    "    sqrlst.append(val**2)\n",
    "print(sqrlst)"
   ]
  },
  {
   "cell_type": "code",
   "execution_count": 303,
   "id": "4584592e",
   "metadata": {},
   "outputs": [
    {
     "name": "stdout",
     "output_type": "stream",
     "text": [
      "[121, 484, 1089, 1936]\n"
     ]
    }
   ],
   "source": [
    "mylst = [11,22,33,44]\n",
    "sqrlst = [val ** 2 for val in mylst]\n",
    "print(sqrlst)"
   ]
  },
  {
   "cell_type": "code",
   "execution_count": 304,
   "id": "1b308218",
   "metadata": {},
   "outputs": [
    {
     "name": "stdout",
     "output_type": "stream",
     "text": [
      "[0, 2, 4, 6, 8, 10, 12, 14, 16, 18, 20]\n"
     ]
    }
   ],
   "source": [
    "evelst = [i for i in range(21) if i % 2 == 0]\n",
    "print(evelst)"
   ]
  },
  {
   "cell_type": "code",
   "execution_count": 305,
   "id": "df56c76b",
   "metadata": {},
   "outputs": [
    {
     "name": "stdout",
     "output_type": "stream",
     "text": [
      "[1, 64, 729, 4096]\n"
     ]
    }
   ],
   "source": [
    "mylst = [1,2,3,4]\n",
    "cubofsqr = [i ** 3 for i in [val ** 2 for val in mylst]]\n",
    "# [1,4,9,16]\n",
    "print(cubofsqr)"
   ]
  },
  {
   "cell_type": "markdown",
   "id": "25ec77e6",
   "metadata": {},
   "source": [
    "### Set Comprehension"
   ]
  },
  {
   "cell_type": "code",
   "execution_count": 306,
   "id": "061f5498",
   "metadata": {},
   "outputs": [
    {
     "name": "stdout",
     "output_type": "stream",
     "text": [
      "{1936, 1089, 484, 121}\n"
     ]
    }
   ],
   "source": [
    "mylst = {11,22,33,44}\n",
    "sqrlst = {val ** 2 for val in mylst}\n",
    "print(sqrlst)"
   ]
  },
  {
   "cell_type": "markdown",
   "id": "37bf97bd",
   "metadata": {},
   "source": [
    "### Dict Comprehension"
   ]
  },
  {
   "cell_type": "code",
   "execution_count": 307,
   "id": "739a883b",
   "metadata": {},
   "outputs": [
    {
     "name": "stdout",
     "output_type": "stream",
     "text": [
      "{'Math': 170, 'Phy': 100, 'Chem': 160, 'CS': 190}\n"
     ]
    }
   ],
   "source": [
    "subs = ('Math','Phy','Chem','CS')\n",
    "marks = [170,100,160,190]\n",
    "\n",
    "sub_mrk = {k:v for k,v in zip(subs,marks)}\n",
    "print(sub_mrk)"
   ]
  },
  {
   "cell_type": "code",
   "execution_count": 308,
   "id": "ad5afb0d",
   "metadata": {},
   "outputs": [
    {
     "name": "stdout",
     "output_type": "stream",
     "text": [
      "{'Math': 85, 'Phy': 50, 'Chem': 80, 'CS': 95}\n"
     ]
    }
   ],
   "source": [
    "sub_per = { k:v//2 for k,v in zip(subs,marks)}\n",
    "print(sub_per)"
   ]
  },
  {
   "cell_type": "markdown",
   "id": "eaf3d4dd",
   "metadata": {},
   "source": [
    "## Function"
   ]
  },
  {
   "cell_type": "code",
   "execution_count": null,
   "id": "72c7cce0",
   "metadata": {},
   "outputs": [],
   "source": [
    "# C / C++\n",
    "int fun (int,int)    # Function Declaration\n",
    "int main(){\n",
    "    result = fun(10,20)\n",
    "    printf(\"%d\",result)\n",
    "}\n",
    "int fun(int a, int b){  # Function Definiton\n",
    "    return a+b\n",
    "}\n",
    "\n",
    "\n",
    "def fun(a,b):\n",
    "    return a+b\n",
    "\n",
    "result = fun(10,20)"
   ]
  },
  {
   "cell_type": "code",
   "execution_count": 309,
   "id": "221b7562",
   "metadata": {},
   "outputs": [
    {
     "name": "stdout",
     "output_type": "stream",
     "text": [
      "30\n"
     ]
    }
   ],
   "source": [
    "def sumof2nos(a,b):\n",
    "    return a+b\n",
    "\n",
    "result = sumof2nos(10,20)\n",
    "print(result)"
   ]
  },
  {
   "cell_type": "code",
   "execution_count": 312,
   "id": "5031fd70",
   "metadata": {},
   "outputs": [
    {
     "ename": "TypeError",
     "evalue": "sumof2nos() missing 1 required positional argument: 'b'",
     "output_type": "error",
     "traceback": [
      "\u001b[0;31m---------------------------------------------------------------------------\u001b[0m",
      "\u001b[0;31mTypeError\u001b[0m                                 Traceback (most recent call last)",
      "\u001b[0;32m<ipython-input-312-d3b78c4d94ef>\u001b[0m in \u001b[0;36m<module>\u001b[0;34m\u001b[0m\n\u001b[1;32m      2\u001b[0m     \u001b[0;32mreturn\u001b[0m \u001b[0ma\u001b[0m\u001b[0;34m+\u001b[0m\u001b[0mb\u001b[0m\u001b[0;34m\u001b[0m\u001b[0;34m\u001b[0m\u001b[0m\n\u001b[1;32m      3\u001b[0m \u001b[0;34m\u001b[0m\u001b[0m\n\u001b[0;32m----> 4\u001b[0;31m \u001b[0mresult\u001b[0m \u001b[0;34m=\u001b[0m \u001b[0msumof2nos\u001b[0m\u001b[0;34m(\u001b[0m\u001b[0;36m10\u001b[0m\u001b[0;34m)\u001b[0m\u001b[0;34m\u001b[0m\u001b[0;34m\u001b[0m\u001b[0m\n\u001b[0m\u001b[1;32m      5\u001b[0m \u001b[0mprint\u001b[0m\u001b[0;34m(\u001b[0m\u001b[0mresult\u001b[0m\u001b[0;34m)\u001b[0m\u001b[0;34m\u001b[0m\u001b[0;34m\u001b[0m\u001b[0m\n",
      "\u001b[0;31mTypeError\u001b[0m: sumof2nos() missing 1 required positional argument: 'b'"
     ]
    }
   ],
   "source": [
    "def sumof2nos(a,b):\n",
    "    return a+b\n",
    "\n",
    "result = sumof2nos(10)\n",
    "print(result)"
   ]
  },
  {
   "cell_type": "code",
   "execution_count": 313,
   "id": "2a90dd1f",
   "metadata": {},
   "outputs": [
    {
     "name": "stdout",
     "output_type": "stream",
     "text": [
      "15\n"
     ]
    }
   ],
   "source": [
    "def sumof2nos(a,b=5):   # default argument\n",
    "    return a+b\n",
    "\n",
    "result = sumof2nos(10)\n",
    "print(result)"
   ]
  },
  {
   "cell_type": "code",
   "execution_count": 314,
   "id": "41a021b9",
   "metadata": {},
   "outputs": [
    {
     "name": "stdout",
     "output_type": "stream",
     "text": [
      "[10, 20, 30, 40]\n",
      "Samuel\n",
      "(77, 66.45)\n"
     ]
    }
   ],
   "source": [
    "def fun(mylst,mystr,mytup):  \n",
    "    print(mylst)\n",
    "    print(mystr)\n",
    "    print(mytup)\n",
    "\n",
    "fun([10,20,30,40],\"Samuel\",(77,66.45))"
   ]
  },
  {
   "cell_type": "markdown",
   "id": "20030bb5",
   "metadata": {},
   "source": [
    "### Passing Multiple Argument"
   ]
  },
  {
   "cell_type": "code",
   "execution_count": 315,
   "id": "d5ee0786",
   "metadata": {},
   "outputs": [
    {
     "name": "stdout",
     "output_type": "stream",
     "text": [
      "150\n"
     ]
    }
   ],
   "source": [
    "def sumofnnos(a,b,c,d,e):\n",
    "    print(a+b+c+d+e)\n",
    "    \n",
    "sumofnnos(10,20,30,40,50)"
   ]
  },
  {
   "cell_type": "code",
   "execution_count": 317,
   "id": "dda99edc",
   "metadata": {},
   "outputs": [
    {
     "name": "stdout",
     "output_type": "stream",
     "text": [
      "<class 'tuple'>\n",
      "150\n"
     ]
    }
   ],
   "source": [
    "def sumofnnos(*args):    # args will be packed as a tuple \n",
    "    print(type(args))\n",
    "    print(sum(args))\n",
    "    \n",
    "sumofnnos(10,20,30,40,50)"
   ]
  },
  {
   "cell_type": "markdown",
   "id": "7dc49135",
   "metadata": {},
   "source": [
    "### Passing Keyword Argument\n"
   ]
  },
  {
   "cell_type": "code",
   "execution_count": 318,
   "id": "8707f872",
   "metadata": {},
   "outputs": [
    {
     "name": "stdout",
     "output_type": "stream",
     "text": [
      "<class 'dict'>\n",
      "{'Name': 'Samuel', 'Age': 18, 'Sal': 876543}\n"
     ]
    }
   ],
   "source": [
    "def info(**kwargs): # kwars will packing the argumets as dict\n",
    "    print(type(kwargs))\n",
    "    print(kwargs)\n",
    "    \n",
    "info(Name='Samuel',Age=18,Sal=876543)"
   ]
  },
  {
   "cell_type": "code",
   "execution_count": 320,
   "id": "bf106ddd",
   "metadata": {},
   "outputs": [
    {
     "name": "stdout",
     "output_type": "stream",
     "text": [
      "(30, -10, 200, 0)\n"
     ]
    }
   ],
   "source": [
    "def arith(a,b):\n",
    "    return a+b, a-b, a*b, a//b\n",
    "\n",
    "# _sum,diff,prod,quo = arith(10,20)\n",
    "output = arith(10,20) \n",
    "# print(_sum,diff,prod,quo)\n",
    "print(output)"
   ]
  },
  {
   "cell_type": "markdown",
   "id": "bb0ef03e",
   "metadata": {},
   "source": [
    "### Recursion"
   ]
  },
  {
   "cell_type": "code",
   "execution_count": null,
   "id": "d84c5860",
   "metadata": {},
   "outputs": [],
   "source": []
  },
  {
   "cell_type": "markdown",
   "id": "13e82d2f",
   "metadata": {},
   "source": [
    "### Lambda"
   ]
  },
  {
   "cell_type": "code",
   "execution_count": 321,
   "id": "9748780a",
   "metadata": {},
   "outputs": [
    {
     "name": "stdout",
     "output_type": "stream",
     "text": [
      "100\n"
     ]
    }
   ],
   "source": [
    "def square(n):\n",
    "    return n**2\n",
    "\n",
    "print(square(10))"
   ]
  },
  {
   "cell_type": "code",
   "execution_count": 322,
   "id": "6d0cc340",
   "metadata": {},
   "outputs": [
    {
     "name": "stdout",
     "output_type": "stream",
     "text": [
      "100\n"
     ]
    }
   ],
   "source": [
    "square = lambda n : n**2\n",
    "\n",
    "print(square(10)) "
   ]
  },
  {
   "cell_type": "code",
   "execution_count": 324,
   "id": "a487cf43",
   "metadata": {},
   "outputs": [
    {
     "name": "stdout",
     "output_type": "stream",
     "text": [
      "1000\n"
     ]
    }
   ],
   "source": [
    "power = lambda n,m : n ** m\n",
    "\n",
    "print(power(10,3))"
   ]
  },
  {
   "cell_type": "code",
   "execution_count": 325,
   "id": "d97f7d40",
   "metadata": {},
   "outputs": [
    {
     "ename": "TypeError",
     "evalue": "unsupported operand type(s) for ** or pow(): 'list' and 'int'",
     "output_type": "error",
     "traceback": [
      "\u001b[0;31m---------------------------------------------------------------------------\u001b[0m",
      "\u001b[0;31mTypeError\u001b[0m                                 Traceback (most recent call last)",
      "\u001b[0;32m<ipython-input-325-83f1bc5c0657>\u001b[0m in \u001b[0;36m<module>\u001b[0;34m\u001b[0m\n\u001b[1;32m      3\u001b[0m \u001b[0;34m\u001b[0m\u001b[0m\n\u001b[1;32m      4\u001b[0m \u001b[0mmylst\u001b[0m \u001b[0;34m=\u001b[0m \u001b[0;34m[\u001b[0m\u001b[0;36m1\u001b[0m\u001b[0;34m,\u001b[0m\u001b[0;36m2\u001b[0m\u001b[0;34m,\u001b[0m\u001b[0;36m3\u001b[0m\u001b[0;34m,\u001b[0m\u001b[0;36m4\u001b[0m\u001b[0;34m]\u001b[0m\u001b[0;34m\u001b[0m\u001b[0;34m\u001b[0m\u001b[0m\n\u001b[0;32m----> 5\u001b[0;31m \u001b[0mprint\u001b[0m\u001b[0;34m(\u001b[0m\u001b[0msquare\u001b[0m\u001b[0;34m(\u001b[0m\u001b[0mmylst\u001b[0m\u001b[0;34m)\u001b[0m\u001b[0;34m)\u001b[0m\u001b[0;34m\u001b[0m\u001b[0;34m\u001b[0m\u001b[0m\n\u001b[0m",
      "\u001b[0;32m<ipython-input-325-83f1bc5c0657>\u001b[0m in \u001b[0;36msquare\u001b[0;34m(n)\u001b[0m\n\u001b[1;32m      1\u001b[0m \u001b[0;32mdef\u001b[0m \u001b[0msquare\u001b[0m\u001b[0;34m(\u001b[0m\u001b[0mn\u001b[0m\u001b[0;34m)\u001b[0m\u001b[0;34m:\u001b[0m\u001b[0;34m\u001b[0m\u001b[0;34m\u001b[0m\u001b[0m\n\u001b[0;32m----> 2\u001b[0;31m     \u001b[0;32mreturn\u001b[0m \u001b[0mn\u001b[0m\u001b[0;34m**\u001b[0m\u001b[0;36m2\u001b[0m\u001b[0;34m\u001b[0m\u001b[0;34m\u001b[0m\u001b[0m\n\u001b[0m\u001b[1;32m      3\u001b[0m \u001b[0;34m\u001b[0m\u001b[0m\n\u001b[1;32m      4\u001b[0m \u001b[0mmylst\u001b[0m \u001b[0;34m=\u001b[0m \u001b[0;34m[\u001b[0m\u001b[0;36m1\u001b[0m\u001b[0;34m,\u001b[0m\u001b[0;36m2\u001b[0m\u001b[0;34m,\u001b[0m\u001b[0;36m3\u001b[0m\u001b[0;34m,\u001b[0m\u001b[0;36m4\u001b[0m\u001b[0;34m]\u001b[0m\u001b[0;34m\u001b[0m\u001b[0;34m\u001b[0m\u001b[0m\n\u001b[1;32m      5\u001b[0m \u001b[0mprint\u001b[0m\u001b[0;34m(\u001b[0m\u001b[0msquare\u001b[0m\u001b[0;34m(\u001b[0m\u001b[0mmylst\u001b[0m\u001b[0;34m)\u001b[0m\u001b[0;34m)\u001b[0m\u001b[0;34m\u001b[0m\u001b[0;34m\u001b[0m\u001b[0m\n",
      "\u001b[0;31mTypeError\u001b[0m: unsupported operand type(s) for ** or pow(): 'list' and 'int'"
     ]
    }
   ],
   "source": [
    "def square(n):\n",
    "    return n**2\n",
    "\n",
    "mylst = [1,2,3,4]\n",
    "print(square(mylst))"
   ]
  },
  {
   "cell_type": "code",
   "execution_count": 326,
   "id": "feec8a49",
   "metadata": {},
   "outputs": [
    {
     "name": "stdout",
     "output_type": "stream",
     "text": [
      "[1, 4, 9, 16]\n"
     ]
    }
   ],
   "source": [
    "mylst = [1,2,3,4]\n",
    "square = lambda n : n**2\n",
    "\n",
    "sqrlst = [ square(val) for val in mylst]\n",
    "print(sqrlst)"
   ]
  },
  {
   "cell_type": "code",
   "execution_count": 330,
   "id": "945efca8",
   "metadata": {},
   "outputs": [
    {
     "name": "stdout",
     "output_type": "stream",
     "text": [
      "[1, 4, 9, 16]\n"
     ]
    }
   ],
   "source": [
    "mylst = [1,2,3,4]\n",
    "square = lambda n : n**2\n",
    "\n",
    "sqrlst = [ square(val) for val in mylst]\n",
    "print(sqrlst)"
   ]
  },
  {
   "cell_type": "markdown",
   "id": "c8408c04",
   "metadata": {},
   "source": [
    "### Map"
   ]
  },
  {
   "cell_type": "markdown",
   "id": "82d2b098",
   "metadata": {},
   "source": [
    "Syntax:\n",
    "    map(fun,iterable object)"
   ]
  },
  {
   "cell_type": "code",
   "execution_count": 331,
   "id": "3d822142",
   "metadata": {},
   "outputs": [
    {
     "ename": "TypeError",
     "evalue": "unsupported operand type(s) for ** or pow(): 'list' and 'int'",
     "output_type": "error",
     "traceback": [
      "\u001b[0;31m---------------------------------------------------------------------------\u001b[0m",
      "\u001b[0;31mTypeError\u001b[0m                                 Traceback (most recent call last)",
      "\u001b[0;32m<ipython-input-331-775979df7407>\u001b[0m in \u001b[0;36m<module>\u001b[0;34m\u001b[0m\n\u001b[1;32m      4\u001b[0m \u001b[0mmylst\u001b[0m \u001b[0;34m=\u001b[0m \u001b[0;34m[\u001b[0m\u001b[0;36m1\u001b[0m\u001b[0;34m,\u001b[0m\u001b[0;36m2\u001b[0m\u001b[0;34m,\u001b[0m\u001b[0;36m3\u001b[0m\u001b[0;34m,\u001b[0m\u001b[0;36m4\u001b[0m\u001b[0;34m]\u001b[0m\u001b[0;34m\u001b[0m\u001b[0;34m\u001b[0m\u001b[0m\n\u001b[1;32m      5\u001b[0m \u001b[0;34m\u001b[0m\u001b[0m\n\u001b[0;32m----> 6\u001b[0;31m \u001b[0mprint\u001b[0m\u001b[0;34m(\u001b[0m\u001b[0msquare\u001b[0m\u001b[0;34m(\u001b[0m\u001b[0mmylst\u001b[0m\u001b[0;34m)\u001b[0m\u001b[0;34m)\u001b[0m\u001b[0;34m\u001b[0m\u001b[0;34m\u001b[0m\u001b[0m\n\u001b[0m",
      "\u001b[0;32m<ipython-input-331-775979df7407>\u001b[0m in \u001b[0;36msquare\u001b[0;34m(n)\u001b[0m\n\u001b[1;32m      1\u001b[0m \u001b[0;32mdef\u001b[0m \u001b[0msquare\u001b[0m\u001b[0;34m(\u001b[0m\u001b[0mn\u001b[0m\u001b[0;34m)\u001b[0m\u001b[0;34m:\u001b[0m\u001b[0;34m\u001b[0m\u001b[0;34m\u001b[0m\u001b[0m\n\u001b[0;32m----> 2\u001b[0;31m     \u001b[0;32mreturn\u001b[0m \u001b[0mn\u001b[0m\u001b[0;34m**\u001b[0m\u001b[0;36m2\u001b[0m\u001b[0;34m\u001b[0m\u001b[0;34m\u001b[0m\u001b[0m\n\u001b[0m\u001b[1;32m      3\u001b[0m \u001b[0;34m\u001b[0m\u001b[0m\n\u001b[1;32m      4\u001b[0m \u001b[0mmylst\u001b[0m \u001b[0;34m=\u001b[0m \u001b[0;34m[\u001b[0m\u001b[0;36m1\u001b[0m\u001b[0;34m,\u001b[0m\u001b[0;36m2\u001b[0m\u001b[0;34m,\u001b[0m\u001b[0;36m3\u001b[0m\u001b[0;34m,\u001b[0m\u001b[0;36m4\u001b[0m\u001b[0;34m]\u001b[0m\u001b[0;34m\u001b[0m\u001b[0;34m\u001b[0m\u001b[0m\n\u001b[1;32m      5\u001b[0m \u001b[0;34m\u001b[0m\u001b[0m\n",
      "\u001b[0;31mTypeError\u001b[0m: unsupported operand type(s) for ** or pow(): 'list' and 'int'"
     ]
    }
   ],
   "source": [
    "def square(n):\n",
    "    return n**2\n",
    "\n",
    "mylst = [1,2,3,4]\n",
    "\n",
    "print(square(mylst))"
   ]
  },
  {
   "cell_type": "code",
   "execution_count": 335,
   "id": "9a8f3765",
   "metadata": {},
   "outputs": [
    {
     "name": "stdout",
     "output_type": "stream",
     "text": [
      "[None, None, None, None]\n"
     ]
    }
   ],
   "source": [
    "def square(n):\n",
    "    return n**2\n",
    "\n",
    "mylst = [1,2,3,4]\n",
    "\n",
    "sqrlst = list (map(square,mylst))  # <1,4,9,16>\n",
    "print(sqrlst)"
   ]
  },
  {
   "cell_type": "code",
   "execution_count": 333,
   "id": "fed505cf",
   "metadata": {},
   "outputs": [
    {
     "name": "stdout",
     "output_type": "stream",
     "text": [
      "[1, 4, 9, 16]\n"
     ]
    }
   ],
   "source": [
    "\n",
    "mylst = [1,2,3,4]\n",
    "\n",
    "sqrlst = list (map(lambda n : n**2,mylst))  # <1,4,9,16>\n",
    "print(sqrlst)"
   ]
  },
  {
   "cell_type": "code",
   "execution_count": 338,
   "id": "8287c176",
   "metadata": {},
   "outputs": [
    {
     "name": "stdout",
     "output_type": "stream",
     "text": [
      "1 2 3 4 5\n",
      "[1, 2, 3, 4, 5]\n"
     ]
    }
   ],
   "source": [
    "lst = list (map(int,input().split()))\n",
    "print(lst)\n",
    "\n",
    "# int('2')"
   ]
  },
  {
   "cell_type": "code",
   "execution_count": 339,
   "id": "a501b825",
   "metadata": {},
   "outputs": [
    {
     "name": "stdout",
     "output_type": "stream",
     "text": [
      "[None, 2, None, 4, None, 6, None, 8, None, 10]\n"
     ]
    }
   ],
   "source": [
    "def checkeven(n):\n",
    "    if n % 2 == 0:\n",
    "        return n\n",
    "    \n",
    "mylst = [1,2,3,4,5,6,7,8,9,10]\n",
    "\n",
    "print(list(map(checkeven,mylst)))"
   ]
  },
  {
   "cell_type": "markdown",
   "id": "51a6c551",
   "metadata": {},
   "source": [
    "### Filter"
   ]
  },
  {
   "cell_type": "markdown",
   "id": "78f24bba",
   "metadata": {},
   "source": [
    "Syntax:\n",
    "    filter(fun,iterable object)"
   ]
  },
  {
   "cell_type": "code",
   "execution_count": 344,
   "id": "eda46a45",
   "metadata": {},
   "outputs": [
    {
     "name": "stdout",
     "output_type": "stream",
     "text": [
      "[2, 4, 6, 8, 10]\n"
     ]
    }
   ],
   "source": [
    "def checkeven(n): # 4\n",
    "    return n % 2 == 0  # True \n",
    "    \n",
    "mylst = [1,2,3,4,5,6,7,8,9,10]\n",
    "\n",
    "print(list((filter(checkeven,mylst))))  # <2,4,6,8,10>"
   ]
  },
  {
   "cell_type": "markdown",
   "id": "c7a6ef4c",
   "metadata": {},
   "source": [
    "### Reduce"
   ]
  },
  {
   "cell_type": "markdown",
   "id": "7d5d61da",
   "metadata": {},
   "source": [
    "syntax:\n",
    "    reduce(fun, iterable object)"
   ]
  },
  {
   "cell_type": "code",
   "execution_count": 345,
   "id": "dd371b83",
   "metadata": {},
   "outputs": [],
   "source": [
    "import functools"
   ]
  },
  {
   "cell_type": "code",
   "execution_count": 346,
   "id": "df3fdeef",
   "metadata": {},
   "outputs": [
    {
     "name": "stdout",
     "output_type": "stream",
     "text": [
      "120\n"
     ]
    }
   ],
   "source": [
    "def mul(a,b):   # a => 24 , b => 5\n",
    "    return a*b   # 24 * 5 (120)\n",
    "\n",
    "print(functools.reduce(mul,range(1,6)))  #(1,2) (2,3) (6,4) (24, 5) (120)"
   ]
  },
  {
   "cell_type": "markdown",
   "id": "964ca5fc",
   "metadata": {},
   "source": [
    "## Nested Function / First-Class Function"
   ]
  },
  {
   "cell_type": "code",
   "execution_count": 349,
   "id": "1b60f469",
   "metadata": {},
   "outputs": [
    {
     "name": "stdout",
     "output_type": "stream",
     "text": [
      "hi Samuel\n"
     ]
    }
   ],
   "source": [
    "def wrapper_fun(name): #name ==> Samuel\n",
    "    greet = 'hi'\n",
    "    def inner_fun():\n",
    "        greet = 'hello'\n",
    "        print(greet,name)\n",
    "    print(greet,name)\n",
    "#     return inner_fun\n",
    "\n",
    "wrapper_fun('Samuel')\n",
    "# funObj()"
   ]
  },
  {
   "cell_type": "code",
   "execution_count": 351,
   "id": "a275582e",
   "metadata": {},
   "outputs": [
    {
     "name": "stdout",
     "output_type": "stream",
     "text": [
      "hi Samuel\n",
      "hello Samuel\n",
      "hai Samuel\n"
     ]
    }
   ],
   "source": [
    "def wrapper_fun(name): #name ==> Samuel\n",
    "    greet = 'hi'\n",
    "    def inner_fun():\n",
    "        greet = 'hello'\n",
    "        print(greet,name)\n",
    "        def newfun():\n",
    "            greet = 'hai'\n",
    "            print(greet,name)\n",
    "        return newfun\n",
    "    print(greet,name)\n",
    "    return inner_fun\n",
    "\n",
    "funObj = wrapper_fun('Samuel')\n",
    "newfunObj = funObj()\n",
    "newfunObj()"
   ]
  },
  {
   "cell_type": "code",
   "execution_count": null,
   "id": "01e75841",
   "metadata": {},
   "outputs": [],
   "source": [
    "https://youtube.com/NonStopEnlightenment"
   ]
  }
 ],
 "metadata": {
  "kernelspec": {
   "display_name": "Python 3",
   "language": "python",
   "name": "python3"
  },
  "language_info": {
   "codemirror_mode": {
    "name": "ipython",
    "version": 3
   },
   "file_extension": ".py",
   "mimetype": "text/x-python",
   "name": "python",
   "nbconvert_exporter": "python",
   "pygments_lexer": "ipython3",
   "version": "3.8.8"
  }
 },
 "nbformat": 4,
 "nbformat_minor": 5
}
